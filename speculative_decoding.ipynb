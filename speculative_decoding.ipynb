{
 "cells": [
  {
   "metadata": {},
   "cell_type": "markdown",
   "source": "# Preparation",
   "id": "f6de6af755fdb886"
  },
  {
   "cell_type": "code",
   "id": "initial_id",
   "metadata": {
    "collapsed": true,
    "ExecuteTime": {
     "end_time": "2025-10-16T07:14:19.087069Z",
     "start_time": "2025-10-16T07:14:19.077898Z"
    }
   },
   "source": [
    "\"\"\"\n",
    "# Download model\n",
    "huggingface-cli download tiiuae/Falcon3-1B-Instruct-1.58bit --local-dir ~/models/tiiuae/Falcon3-1B-Instruct-1.58bit\n",
    "# Compile\n",
    "python setup_env.py -md ~/models/tiiuae/Falcon3-1B-Instruct-1.58bit -q i2_s\n",
    "\n",
    "#.build/bin/llama-server -m /home/pathfinder/models/tiiuae/Falcon3-1B-Instruct-1.58bit/ggml-model-i2_s.gguf --host 127.0.0.1 --port 8080\n",
    "\n",
    "# Download Falcon3-1B-Instruct\n",
    "huggingface-cli download tiiuae/Falcon3-1B-Instruct --local-dir ~/models/tiiuae/Falcon3-1B-Instruct\n",
    "\"\"\""
   ],
   "outputs": [
    {
     "data": {
      "text/plain": [
       "'\\n# Download model\\nhuggingface-cli download tiiuae/Falcon3-1B-Instruct-1.58bit --local-dir ~/models/tiiuae/Falcon3-1B-Instruct-1.58bit\\n# Compile\\npython setup_env.py -md ~/models/tiiuae/Falcon3-1B-Instruct-1.58bit -q i2_s\\n\\n#.build/bin/llama-server -m /home/pathfinder/models/tiiuae/Falcon3-1B-Instruct-1.58bit/ggml-model-i2_s.gguf --host 127.0.0.1 --port 8080\\n\\n# Download Falcon3-1B-Instruct\\nhuggingface-cli download tiiuae/Falcon3-1B-Instruct --local-dir ~/models/tiiuae/Falcon3-1B-Instruct\\n'"
      ]
     },
     "execution_count": 1,
     "metadata": {},
     "output_type": "execute_result"
    }
   ],
   "execution_count": 1
  },
  {
   "metadata": {},
   "cell_type": "markdown",
   "source": "# Importing Libraries",
   "id": "dffe6bf4c285bea9"
  },
  {
   "metadata": {
    "ExecuteTime": {
     "end_time": "2025-10-16T07:14:21.617495Z",
     "start_time": "2025-10-16T07:14:19.092721Z"
    }
   },
   "cell_type": "code",
   "source": [
    "import os\n",
    "from dataclasses import dataclass\n",
    "from utils import set_seed\n",
    "from speculative_decoding import BitNet\n",
    "#from evaluate import LlmEvaluator"
   ],
   "id": "62ddb7478aa2932d",
   "outputs": [
    {
     "name": "stderr",
     "output_type": "stream",
     "text": [
      "/home/pathfinder/miniconda3/envs/bitnet-cpp/lib/python3.9/site-packages/requests/__init__.py:86: RequestsDependencyWarning: Unable to find acceptable character detection dependency (chardet or charset_normalizer).\n",
      "  warnings.warn(\n"
     ]
    }
   ],
   "execution_count": 2
  },
  {
   "metadata": {},
   "cell_type": "markdown",
   "source": "# Configuration",
   "id": "f8e21d5ab2dcbde7"
  },
  {
   "metadata": {
    "ExecuteTime": {
     "end_time": "2025-10-16T07:14:21.714677Z",
     "start_time": "2025-10-16T07:14:21.710608Z"
    }
   },
   "cell_type": "code",
   "source": [
    "@dataclass\n",
    "class CONFIG:\n",
    "    # Debug\n",
    "    debug: bool = False\n",
    "    verbose: bool = True\n",
    "\n",
    "    # Model\n",
    "    model_id: str = \"tiiuae/Falcon3-1B-Instruct\"\n",
    "    quantized_path: str = \"/home/pathfinder/models/tiiuae/Falcon3-1B-Instruct-1.58bit/ggml-model-i2_s.gguf\"\n",
    "    ctx_size: int = 1024\n",
    "\n",
    "    # Generation\n",
    "    max_new_tokens: int = 256\n",
    "    ## Speculative Decoding\n",
    "    num_assistant_tokens: int = 5\n",
    "    assistant_confidence_threshold: float = 0.4\n",
    "\n",
    "    # Device\n",
    "    n_threads: int = 12\n",
    "\n",
    "    # Seed\n",
    "    seed = 42\n",
    "\n",
    "config = CONFIG()"
   ],
   "id": "a6b66f6771b15607",
   "outputs": [],
   "execution_count": 3
  },
  {
   "metadata": {
    "ExecuteTime": {
     "end_time": "2025-10-16T07:14:21.723616Z",
     "start_time": "2025-10-16T07:14:21.720552Z"
    }
   },
   "cell_type": "code",
   "source": "os.environ[\"TOKENIZERS_PARALLELISM\"] = \"false\"",
   "id": "784cb1797748b6fc",
   "outputs": [],
   "execution_count": 4
  },
  {
   "metadata": {
    "ExecuteTime": {
     "end_time": "2025-10-16T07:14:21.733423Z",
     "start_time": "2025-10-16T07:14:21.728978Z"
    }
   },
   "cell_type": "code",
   "source": "set_seed(config.seed)",
   "id": "ea880def9f4f766c",
   "outputs": [
    {
     "name": "stdout",
     "output_type": "stream",
     "text": [
      "Random seed set to 42\n"
     ]
    }
   ],
   "execution_count": 5
  },
  {
   "metadata": {
    "ExecuteTime": {
     "end_time": "2025-10-16T07:14:21.786252Z",
     "start_time": "2025-10-16T07:14:21.783165Z"
    }
   },
   "cell_type": "code",
   "source": [
    "system_prompt = \"You are an helpful assistant.\"\n",
    "user_prompt = \"Explain quantum mechanics in detail please.\"\n",
    "assistant_response = \"Quantum mechanics is a fundamental theory in physics that describes the physical properties of nature at the scale of atoms and subatomic particles, such as electrons, protons, and photons.\""
   ],
   "id": "16b44cddf2e377f0",
   "outputs": [],
   "execution_count": 6
  },
  {
   "metadata": {},
   "cell_type": "markdown",
   "source": "# Model",
   "id": "896a55c2e60df54a"
  },
  {
   "metadata": {
    "ExecuteTime": {
     "end_time": "2025-10-16T07:14:23.452991Z",
     "start_time": "2025-10-16T07:14:21.791725Z"
    }
   },
   "cell_type": "code",
   "source": [
    "bitnet = BitNet(\n",
    "    model_id=config.model_id,\n",
    "    quantized_path=config.quantized_path,\n",
    "    host=\"127.0.0.1\",\n",
    "    port=8080,\n",
    "    ctx_size=config.ctx_size,\n",
    "    n_threads=config.n_threads,\n",
    "    n_gpu_layers=0,\n",
    "    batch_size=1,\n",
    "    slot_id=1\n",
    ")\n",
    "bitnet.start_server(verbose=False)\n",
    "bitnet.init_tokenizer(verbose=False)\n",
    "bitnet.init_model(verbose=True)"
   ],
   "id": "ab56cfc0e8ed0735",
   "outputs": [
    {
     "name": "stdout",
     "output_type": "stream",
     "text": [
      "🚀 Starting llama-server on 127.0.0.1:8080\n",
      "✅ Server is ready.\n",
      "LlamaForCausalLM(\n",
      "  (model): LlamaModel(\n",
      "    (embed_tokens): Embedding(131072, 2048)\n",
      "    (layers): ModuleList(\n",
      "      (0-17): 18 x LlamaDecoderLayer(\n",
      "        (self_attn): LlamaAttention(\n",
      "          (q_proj): Linear(in_features=2048, out_features=2048, bias=False)\n",
      "          (k_proj): Linear(in_features=2048, out_features=1024, bias=False)\n",
      "          (v_proj): Linear(in_features=2048, out_features=1024, bias=False)\n",
      "          (o_proj): Linear(in_features=2048, out_features=2048, bias=False)\n",
      "        )\n",
      "        (mlp): LlamaMLP(\n",
      "          (gate_proj): Linear(in_features=2048, out_features=8192, bias=False)\n",
      "          (up_proj): Linear(in_features=2048, out_features=8192, bias=False)\n",
      "          (down_proj): Linear(in_features=8192, out_features=2048, bias=False)\n",
      "          (act_fn): SiLUActivation()\n",
      "        )\n",
      "        (input_layernorm): LlamaRMSNorm((2048,), eps=1e-06)\n",
      "        (post_attention_layernorm): LlamaRMSNorm((2048,), eps=1e-06)\n",
      "      )\n",
      "    )\n",
      "    (norm): LlamaRMSNorm((2048,), eps=1e-06)\n",
      "    (rotary_emb): LlamaRotaryEmbedding()\n",
      "  )\n",
      "  (lm_head): Linear(in_features=2048, out_features=131072, bias=False)\n",
      ")\n",
      "Number of parameters: 1.67B\n"
     ]
    }
   ],
   "execution_count": 7
  },
  {
   "metadata": {},
   "cell_type": "markdown",
   "source": "# Generation",
   "id": "469989eff49d9501"
  },
  {
   "metadata": {
    "ExecuteTime": {
     "end_time": "2025-10-16T07:15:03.170313Z",
     "start_time": "2025-10-16T07:14:23.510617Z"
    }
   },
   "cell_type": "code",
   "source": [
    "bitnet.generate_hf(\n",
    "    text=bitnet.format_falcon_prompt(\n",
    "        system_prompt=system_prompt,\n",
    "        user_prompt=user_prompt,\n",
    "        assistant_response=assistant_response\n",
    "    ),\n",
    "    max_new_tokens=config.max_new_tokens,\n",
    "    verbose=config.verbose\n",
    ")"
   ],
   "id": "aaa8be819aa3e07a",
   "outputs": [
    {
     "name": "stdout",
     "output_type": "stream",
     "text": [
      "\n",
      "\u001B[95m──────────────────────────────────────────────────\n",
      "🧠 Generation Info (Hugging Face)\n",
      "──────────────────────────────────────────────────\u001B[0m\n",
      "\u001B[94m💬 User Input:\u001B[0m\n",
      "<|system|>\n",
      "You are an helpful assistant.\n",
      "<|user|>\n",
      "Explain quantum mechanics in detail please.\n",
      "<|assistant|>\n",
      "Quantum mechanics is a fundamental theory in physics that describes the physical properties of nature at the scale of atoms and subatomic particles, such as electrons, protons, and photons.\n",
      "\n",
      "\u001B[92m🟢 Generated Text:\u001B[0m\n",
      " It is a complex and counterintuitive theory that has been developed over the past two centuries, and it has revolutionized our understanding of the universe.\n",
      "\n",
      "1. Wave-Particle Duality: One of the most fundamental principles of quantum mechanics is that particles can exhibit both wave-like and particle-like properties. This means that a particle can behave like a wave, spreading out and interfering with itself, or it can behave like a particle, having a definite position and momentum.\n",
      "\n",
      "2. Superposition\n",
      "\n",
      "\u001B[94m📊 Timings:\u001B[0m\n",
      "  - Total Time: 39.59s\n",
      "  - Decode: 395.88 ms/token, 2.53 tokens/s\n",
      "\u001B[94m📦 Tokens:\u001B[0m\n",
      "  - Prefilled: 64\n",
      "  - Decoded: 100\n",
      "\n",
      "\u001B[95m──────────────────────────────────────────────────\n",
      "💡 Token Probabilities\n",
      "──────────────────────────────────────────────────\u001B[0m\n",
      "| Step | Token           |  Probability |\n",
      "|------|-----------------|--------------|\n",
      "|    1 |  It             |       64.95% |\n",
      "|    2 |  is             |       25.08% |\n",
      "|    3 |  a              |       48.29% |\n",
      "|    4 |  complex        |       20.15% |\n",
      "|    5 |  and            |       49.20% |\n",
      "|    6 |  counterintuiti |       21.61% |\n",
      "|    7 |  theory         |       51.75% |\n",
      "|    8 |  that           |       50.86% |\n",
      "|    9 |  has            |       24.71% |\n",
      "|   10 |  been           |       42.60% |\n",
      "|   11 |  developed      |       15.99% |\n",
      "|   12 |  over           |       66.34% |\n",
      "|   13 |  the            |       35.37% |\n",
      "|   14 |  past           |       46.35% |\n",
      "|   15 |  two            |       48.35% |\n",
      "|   16 |  centuries      |       99.77% |\n",
      "|   17 | ,               |       38.93% |\n",
      "|   18 |  and            |       24.70% |\n",
      "|   19 |  it             |       81.68% |\n",
      "|   20 |  has            |       24.70% |\n",
      "|   21 |  revolutionized |       49.52% |\n",
      "|   22 |  our            |       91.45% |\n",
      "|   23 |  understanding  |       99.97% |\n",
      "|   24 |  of             |       99.97% |\n",
      "|   25 |  the            |       91.84% |\n",
      "|   26 |  universe       |       22.64% |\n",
      "|   27 | .               |       65.23% |\n",
      "|   28 | \\n              |       56.81% |\n",
      "|   29 | \\n              |       99.98% |\n",
      "|   30 | 1               |       29.82% |\n",
      "|   31 | .               |       99.75% |\n",
      "|   32 |  Wave           |       50.00% |\n",
      "|   33 | -               |       99.69% |\n",
      "|   34 | Particle        |       85.19% |\n",
      "|   35 |  D              |       98.85% |\n",
      "|   36 | uality          |       99.95% |\n",
      "|   37 | :               |       96.73% |\n",
      "|   38 |  One            |       62.41% |\n",
      "|   39 |  of             |       99.57% |\n",
      "|   40 |  the            |       99.96% |\n",
      "|   41 |  most           |       70.02% |\n",
      "|   42 |  fundamental    |       45.83% |\n",
      "|   43 |  principles     |       57.16% |\n",
      "|   44 |  of             |       86.55% |\n",
      "|   45 |  quantum        |       99.99% |\n",
      "|   46 |  mechanics      |       99.95% |\n",
      "|   47 |  is             |       99.32% |\n",
      "|   48 |  that           |       44.20% |\n",
      "|   49 |  particles      |       89.21% |\n",
      "|   50 |  can            |       49.22% |\n",
      "|   51 |  exhibit        |       94.40% |\n",
      "|   52 |  both           |       90.15% |\n",
      "|   53 |  wave           |       88.88% |\n",
      "|   54 | -               |       99.37% |\n",
      "|   55 | like            |       99.99% |\n",
      "|   56 |  and            |       99.14% |\n",
      "|   57 |  particle       |       99.91% |\n",
      "|   58 | -               |       99.99% |\n",
      "|   59 | like            |      100.00% |\n",
      "|   60 |  properties     |       49.87% |\n",
      "|   61 | .               |       91.84% |\n",
      "|   62 |  This           |       49.78% |\n",
      "|   63 |  means          |       34.32% |\n",
      "|   64 |  that           |       94.68% |\n",
      "|   65 |  a              |       21.59% |\n",
      "|   66 |  particle       |       54.60% |\n",
      "|   67 |  can            |       72.67% |\n",
      "|   68 |  behave         |       47.56% |\n",
      "|   69 |  like           |       60.45% |\n",
      "|   70 |  a              |       95.39% |\n",
      "|   71 |  wave           |       68.62% |\n",
      "|   72 | ,               |       50.78% |\n",
      "|   73 |  spreading      |       58.99% |\n",
      "|   74 |  out            |       98.74% |\n",
      "|   75 |  and            |       72.45% |\n",
      "|   76 |  interfering    |       84.59% |\n",
      "|   77 |  with           |       99.77% |\n",
      "|   78 |  itself         |       96.97% |\n",
      "|   79 | ,               |       89.25% |\n",
      "|   80 |  or             |       77.76% |\n",
      "|   81 |  it             |       79.96% |\n",
      "|   82 |  can            |       99.56% |\n",
      "|   83 |  behave         |       74.07% |\n",
      "|   84 |  like           |       99.22% |\n",
      "|   85 |  a              |       98.96% |\n",
      "|   86 |  particle       |       96.03% |\n",
      "|   87 | ,               |       99.49% |\n",
      "|   88 |  having         |       48.84% |\n",
      "|   89 |  a              |       83.49% |\n",
      "|   90 |  definite       |       72.09% |\n",
      "|   91 |  position       |       71.66% |\n",
      "|   92 |  and            |       76.42% |\n",
      "|   93 |  momentum       |       90.61% |\n",
      "|   94 | .               |       88.11% |\n",
      "|   95 | \\n              |       56.41% |\n",
      "|   96 | \\n              |       99.89% |\n",
      "|   97 | 2               |       97.57% |\n",
      "|   98 | .               |      100.00% |\n",
      "|   99 |  Super          |       43.70% |\n",
      "|  100 | position        |       99.99% |\n"
     ]
    },
    {
     "data": {
      "text/plain": [
       "' It is a complex and counterintuitive theory that has been developed over the past two centuries, and it has revolutionized our understanding of the universe.\\n\\n1. Wave-Particle Duality: One of the most fundamental principles of quantum mechanics is that particles can exhibit both wave-like and particle-like properties. This means that a particle can behave like a wave, spreading out and interfering with itself, or it can behave like a particle, having a definite position and momentum.\\n\\n2. Superposition'"
      ]
     },
     "execution_count": 8,
     "metadata": {},
     "output_type": "execute_result"
    }
   ],
   "execution_count": 8
  },
  {
   "metadata": {
    "ExecuteTime": {
     "end_time": "2025-10-16T07:15:07.977755Z",
     "start_time": "2025-10-16T07:15:03.279871Z"
    }
   },
   "cell_type": "code",
   "source": [
    "bitnet.generate_gguf(\n",
    "    text=bitnet.format_falcon_prompt(\n",
    "        system_prompt=system_prompt,\n",
    "        user_prompt=user_prompt,\n",
    "        assistant_response=assistant_response\n",
    "    ),\n",
    "    max_new_tokens=config.max_new_tokens,\n",
    "    verbose=config.verbose\n",
    ")"
   ],
   "id": "83a162b083561eb8",
   "outputs": [
    {
     "name": "stdout",
     "output_type": "stream",
     "text": [
      "\n",
      "\u001B[95m──────────────────────────────────────────────────\n",
      "🧠 Generation Info (BitNet GGUF)\n",
      "──────────────────────────────────────────────────\u001B[0m\n",
      "\u001B[94m💬 User Input:\u001B[0m\n",
      "<|system|>\n",
      "You are an helpful assistant.\n",
      "<|user|>\n",
      "Explain quantum mechanics in detail please.\n",
      "<|assistant|>\n",
      "Quantum mechanics is a fundamental theory in physics that describes the physical properties of nature at the scale of atoms and subatomic particles, such as electrons, protons, and photons.\n",
      "\n",
      "\u001B[92m🟢 Generated Text:\u001B[0m\n",
      " At its core, quantum mechanics is based on the idea that not all electromagnetic fields can be described by classical mechanics through classical fields like electromagnetic tension and dipole moments. Instead, these fields are described by the concept of quantum fields, and these fields can be generated by pairs of entangled particles. The light color of the particle contributes to the field's quantum state, and the system’s qubit relies on superposition to maintain this quantum state over time to change states.\n",
      "\n",
      "\u001B[94m📊 Timings:\u001B[0m\n",
      "  - Prefill: 2.60 ms/token, 384.73 tokens/s\n",
      "  - Decode: 47.59 ms/token, 21.01 tokens/s\n",
      "\u001B[94m📦 Tokens:\u001B[0m\n",
      "  - Prefilled: 64\n",
      "  - Decoded: 95\n",
      "\u001B[94m🛑 Stop Reason:\u001B[0m EOS\n",
      "\n",
      "\u001B[95m──────────────────────────────────────────────────\n",
      "💡 Token Probabilities\n",
      "──────────────────────────────────────────────────\u001B[0m\n",
      "| Step | Token           |  Probability |\u001B[0m\n",
      "|------|-----------------|--------------|\u001B[0m\n",
      "|    1 |  At             |       61.01% |\u001B[0m\n",
      "|    2 |  its            |       47.76% |\u001B[0m\n",
      "|    3 |  core           |       79.32% |\u001B[0m\n",
      "|    4 | ,               |       99.23% |\u001B[0m\n",
      "|    5 |  quantum        |       75.94% |\u001B[0m\n",
      "|    6 |  mechanics      |       99.58% |\u001B[0m\n",
      "|    7 |  is             |       54.14% |\u001B[0m\n",
      "|    8 |  based          |       53.95% |\u001B[0m\n",
      "|    9 |  on             |       99.46% |\u001B[0m\n",
      "|   10 |  the            |       83.20% |\u001B[0m\n",
      "|   11 |  idea           |       34.69% |\u001B[0m\n",
      "|   12 |  that           |       94.93% |\u001B[0m\n",
      "|   13 |  not            |       21.65% |\u001B[0m\n",
      "|   14 |  all            |       58.40% |\u001B[0m\n",
      "|   15 |  electromagneti |       34.65% |\u001B[0m\n",
      "|   16 |  fields         |       27.16% |\u001B[0m\n",
      "|   17 |  can            |       37.28% |\u001B[0m\n",
      "|   18 |  be             |       98.78% |\u001B[0m\n",
      "|   19 |  described      |       61.49% |\u001B[0m\n",
      "|   20 |  by             |       80.42% |\u001B[0m\n",
      "|   21 |  classical      |       67.32% |\u001B[0m\n",
      "|   22 |  mechanics      |       41.99% |\u001B[0m\n",
      "|   23 |  through        |       50.49% |\u001B[0m\n",
      "|   24 |  classical      |       20.34% |\u001B[0m\n",
      "|   25 |  fields         |       16.14% |\u001B[0m\n",
      "|   26 |  like           |       32.75% |\u001B[0m\n",
      "|   27 |  electromagneti |       10.84% |\u001B[0m\n",
      "|   28 |  tension        |       32.74% |\u001B[0m\n",
      "|   29 |  and            |       59.94% |\u001B[0m\n",
      "|   30 |  dipole         |       28.60% |\u001B[0m\n",
      "|   31 |  moments        |       41.68% |\u001B[0m\n",
      "|   32 | .               |       82.31% |\u001B[0m\n",
      "|   33 |  Instead        |       43.49% |\u001B[0m\n",
      "|   34 | ,               |       99.78% |\u001B[0m\n",
      "|   35 |  these          |       22.37% |\u001B[0m\n",
      "|   36 |  fields         |       77.77% |\u001B[0m\n",
      "|   37 |  are            |       35.07% |\u001B[0m\n",
      "|   38 |  described      |       57.22% |\u001B[0m\n",
      "|   39 |  by             |       83.59% |\u001B[0m\n",
      "|   40 |  the            |       62.80% |\u001B[0m\n",
      "|   41 |  concept        |       27.84% |\u001B[0m\n",
      "|   42 |  of             |       99.71% |\u001B[0m\n",
      "|   43 |  quantum        |       82.69% |\u001B[0m\n",
      "|   44 |  fields         |       88.26% |\u001B[0m\n",
      "|   45 | ,               |       46.13% |\u001B[0m\n",
      "|   46 |  and            |       65.84% |\u001B[0m\n",
      "|   47 |  these          |       24.57% |\u001B[0m\n",
      "|   48 |  fields         |       68.67% |\u001B[0m\n",
      "|   49 |  can            |       41.90% |\u001B[0m\n",
      "|   50 |  be             |       62.95% |\u001B[0m\n",
      "|   51 |  generated      |       40.41% |\u001B[0m\n",
      "|   52 |  by             |       59.29% |\u001B[0m\n",
      "|   53 |  pairs          |       17.09% |\u001B[0m\n",
      "|   54 |  of             |       97.87% |\u001B[0m\n",
      "|   55 |  entangled      |       19.80% |\u001B[0m\n",
      "|   56 |  particles      |       72.22% |\u001B[0m\n",
      "|   57 | .               |       68.75% |\u001B[0m\n",
      "|   58 |  The            |       43.33% |\u001B[0m\n",
      "|   59 |  light          |        7.70% |\u001B[0m\n",
      "|   60 |  color          |       21.85% |\u001B[0m\n",
      "|   61 |  of             |       78.72% |\u001B[0m\n",
      "|   62 |  the            |       42.51% |\u001B[0m\n",
      "|   63 |  particle       |       31.42% |\u001B[0m\n",
      "|   64 |  contributes    |       33.27% |\u001B[0m\n",
      "|   65 |  to             |       85.91% |\u001B[0m\n",
      "|   66 |  the            |       46.26% |\u001B[0m\n",
      "|   67 |  field          |       18.22% |\u001B[0m\n",
      "|   68 | '               |       29.34% |\u001B[0m\n",
      "|   69 | s               |       99.98% |\u001B[0m\n",
      "|   70 |  quantum        |       31.58% |\u001B[0m\n",
      "|   71 |  state          |       29.63% |\u001B[0m\n",
      "|   72 | ,               |       47.74% |\u001B[0m\n",
      "|   73 |  and            |       44.11% |\u001B[0m\n",
      "|   74 |  the            |       43.09% |\u001B[0m\n",
      "|   75 |  system         |       11.73% |\u001B[0m\n",
      "|   76 | ’               |       26.57% |\u001B[0m\n",
      "|   77 | s               |       99.94% |\u001B[0m\n",
      "|   78 |  qu             |       21.30% |\u001B[0m\n",
      "|   79 | bit             |       64.26% |\u001B[0m\n",
      "|   80 |  relies         |       19.07% |\u001B[0m\n",
      "|   81 |  on             |       96.49% |\u001B[0m\n",
      "|   82 |  super          |       24.07% |\u001B[0m\n",
      "|   83 | position        |       97.29% |\u001B[0m\n",
      "|   84 |  to             |       50.53% |\u001B[0m\n",
      "|   85 |  maintain       |       30.50% |\u001B[0m\n",
      "|   86 |  this           |       22.81% |\u001B[0m\n",
      "|   87 |  quantum        |       51.80% |\u001B[0m\n",
      "|   88 |  state          |       96.09% |\u001B[0m\n",
      "|   89 |  over           |       54.46% |\u001B[0m\n",
      "|   90 |  time           |       75.71% |\u001B[0m\n",
      "|   91 |  to             |       82.97% |\u001B[0m\n",
      "|   92 |  change         |       19.54% |\u001B[0m\n",
      "|   93 |  states         |       51.57% |\u001B[0m\n",
      "|   94 | .               |       50.17% |\u001B[0m\n",
      "|   95 | <|endoftext|>   |       30.46% |\u001B[0m\n"
     ]
    },
    {
     "data": {
      "text/plain": [
       "\" At its core, quantum mechanics is based on the idea that not all electromagnetic fields can be described by classical mechanics through classical fields like electromagnetic tension and dipole moments. Instead, these fields are described by the concept of quantum fields, and these fields can be generated by pairs of entangled particles. The light color of the particle contributes to the field's quantum state, and the system’s qubit relies on superposition to maintain this quantum state over time to change states.\""
      ]
     },
     "execution_count": 9,
     "metadata": {},
     "output_type": "execute_result"
    }
   ],
   "execution_count": 9
  },
  {
   "metadata": {},
   "cell_type": "markdown",
   "source": "## Speculative Decoding",
   "id": "b1edeead8fbf0100"
  },
  {
   "metadata": {
    "ExecuteTime": {
     "end_time": "2025-10-16T07:15:09.050615Z",
     "start_time": "2025-10-16T07:15:08.012201Z"
    }
   },
   "cell_type": "code",
   "source": [
    "bitnet.generate_hf(\n",
    "    text=bitnet.format_falcon_prompt(\n",
    "        system_prompt=system_prompt,\n",
    "        user_prompt=user_prompt,\n",
    "        assistant_response=assistant_response\n",
    "    ),\n",
    "    speculative=True,\n",
    "    num_assistant_tokens=5,\n",
    "    assistant_confidence_threshold=0.25,\n",
    "    max_new_tokens=100,\n",
    "    verbose=True\n",
    ")"
   ],
   "id": "cb6b0f4de422dbdb",
   "outputs": [
    {
     "ename": "OSError",
     "evalue": "tiiuae/Falcon3-7B-Instruct-1.58bit-GGUF does not appear to have a file named /home/pathfinder/models/tiiuae/Falcon3-1B-Instruct-1.58bit/ggml-model-i2_s.gguf. Checkout 'https://huggingface.co/tiiuae/Falcon3-7B-Instruct-1.58bit-GGUF/tree/main' for available files.",
     "output_type": "error",
     "traceback": [
      "\u001B[0;31m---------------------------------------------------------------------------\u001B[0m",
      "\u001B[0;31mOSError\u001B[0m                                   Traceback (most recent call last)",
      "Cell \u001B[0;32mIn[10], line 1\u001B[0m\n\u001B[0;32m----> 1\u001B[0m \u001B[43mbitnet\u001B[49m\u001B[38;5;241;43m.\u001B[39;49m\u001B[43mgenerate_hf\u001B[49m\u001B[43m(\u001B[49m\n\u001B[1;32m      2\u001B[0m \u001B[43m    \u001B[49m\u001B[43mtext\u001B[49m\u001B[38;5;241;43m=\u001B[39;49m\u001B[43mbitnet\u001B[49m\u001B[38;5;241;43m.\u001B[39;49m\u001B[43mformat_falcon_prompt\u001B[49m\u001B[43m(\u001B[49m\n\u001B[1;32m      3\u001B[0m \u001B[43m        \u001B[49m\u001B[43msystem_prompt\u001B[49m\u001B[38;5;241;43m=\u001B[39;49m\u001B[43msystem_prompt\u001B[49m\u001B[43m,\u001B[49m\n\u001B[1;32m      4\u001B[0m \u001B[43m        \u001B[49m\u001B[43muser_prompt\u001B[49m\u001B[38;5;241;43m=\u001B[39;49m\u001B[43muser_prompt\u001B[49m\u001B[43m,\u001B[49m\n\u001B[1;32m      5\u001B[0m \u001B[43m        \u001B[49m\u001B[43massistant_response\u001B[49m\u001B[38;5;241;43m=\u001B[39;49m\u001B[43massistant_response\u001B[49m\n\u001B[1;32m      6\u001B[0m \u001B[43m    \u001B[49m\u001B[43m)\u001B[49m\u001B[43m,\u001B[49m\n\u001B[1;32m      7\u001B[0m \u001B[43m    \u001B[49m\u001B[43mspeculative\u001B[49m\u001B[38;5;241;43m=\u001B[39;49m\u001B[38;5;28;43;01mTrue\u001B[39;49;00m\u001B[43m,\u001B[49m\n\u001B[1;32m      8\u001B[0m \u001B[43m    \u001B[49m\u001B[43mnum_assistant_tokens\u001B[49m\u001B[38;5;241;43m=\u001B[39;49m\u001B[38;5;241;43m5\u001B[39;49m\u001B[43m,\u001B[49m\n\u001B[1;32m      9\u001B[0m \u001B[43m    \u001B[49m\u001B[43massistant_confidence_threshold\u001B[49m\u001B[38;5;241;43m=\u001B[39;49m\u001B[38;5;241;43m0.25\u001B[39;49m\u001B[43m,\u001B[49m\n\u001B[1;32m     10\u001B[0m \u001B[43m    \u001B[49m\u001B[43mmax_new_tokens\u001B[49m\u001B[38;5;241;43m=\u001B[39;49m\u001B[38;5;241;43m100\u001B[39;49m\u001B[43m,\u001B[49m\n\u001B[1;32m     11\u001B[0m \u001B[43m    \u001B[49m\u001B[43mverbose\u001B[49m\u001B[38;5;241;43m=\u001B[39;49m\u001B[38;5;28;43;01mTrue\u001B[39;49;00m\n\u001B[1;32m     12\u001B[0m \u001B[43m)\u001B[49m\n",
      "File \u001B[0;32m~/miniconda3/envs/bitnet-cpp/lib/python3.9/site-packages/torch/utils/_contextlib.py:120\u001B[0m, in \u001B[0;36mcontext_decorator.<locals>.decorate_context\u001B[0;34m(*args, **kwargs)\u001B[0m\n\u001B[1;32m    117\u001B[0m \u001B[38;5;129m@functools\u001B[39m\u001B[38;5;241m.\u001B[39mwraps(func)\n\u001B[1;32m    118\u001B[0m \u001B[38;5;28;01mdef\u001B[39;00m\u001B[38;5;250m \u001B[39m\u001B[38;5;21mdecorate_context\u001B[39m(\u001B[38;5;241m*\u001B[39margs, \u001B[38;5;241m*\u001B[39m\u001B[38;5;241m*\u001B[39mkwargs):\n\u001B[1;32m    119\u001B[0m     \u001B[38;5;28;01mwith\u001B[39;00m ctx_factory():\n\u001B[0;32m--> 120\u001B[0m         \u001B[38;5;28;01mreturn\u001B[39;00m \u001B[43mfunc\u001B[49m\u001B[43m(\u001B[49m\u001B[38;5;241;43m*\u001B[39;49m\u001B[43margs\u001B[49m\u001B[43m,\u001B[49m\u001B[43m \u001B[49m\u001B[38;5;241;43m*\u001B[39;49m\u001B[38;5;241;43m*\u001B[39;49m\u001B[43mkwargs\u001B[49m\u001B[43m)\u001B[49m\n",
      "File \u001B[0;32m~/projects/BitNet/speculative_decoding.py:145\u001B[0m, in \u001B[0;36mBitNet.generate_hf\u001B[0;34m(self, text, max_new_tokens, speculative, num_assistant_tokens, assistant_confidence_threshold, stream, verbose)\u001B[0m\n\u001B[1;32m    143\u001B[0m quantized_model \u001B[38;5;241m=\u001B[39m \u001B[38;5;28;01mNone\u001B[39;00m\n\u001B[1;32m    144\u001B[0m \u001B[38;5;28;01mif\u001B[39;00m speculative:\n\u001B[0;32m--> 145\u001B[0m     quantized_model \u001B[38;5;241m=\u001B[39m \u001B[43mAutoModelForCausalLM\u001B[49m\u001B[38;5;241;43m.\u001B[39;49m\u001B[43mfrom_pretrained\u001B[49m\u001B[43m(\u001B[49m\n\u001B[1;32m    146\u001B[0m \u001B[43m        \u001B[49m\u001B[38;5;124;43m\"\u001B[39;49m\u001B[38;5;124;43mtiiuae/Falcon3-7B-Instruct-1.58bit-GGUF\u001B[39;49m\u001B[38;5;124;43m\"\u001B[39;49m\u001B[43m,\u001B[49m\n\u001B[1;32m    147\u001B[0m \u001B[43m        \u001B[49m\u001B[43mgguf_file\u001B[49m\u001B[38;5;241;43m=\u001B[39;49m\u001B[38;5;28;43mself\u001B[39;49m\u001B[38;5;241;43m.\u001B[39;49m\u001B[43mmodel_path\u001B[49m\u001B[43m,\u001B[49m\n\u001B[1;32m    148\u001B[0m \u001B[43m        \u001B[49m\u001B[43mdevice_map\u001B[49m\u001B[38;5;241;43m=\u001B[39;49m\u001B[38;5;124;43m\"\u001B[39;49m\u001B[38;5;124;43mcpu\u001B[39;49m\u001B[38;5;124;43m\"\u001B[39;49m\u001B[43m,\u001B[49m\n\u001B[1;32m    149\u001B[0m \u001B[43m        \u001B[49m\u001B[43mdtype\u001B[49m\u001B[38;5;241;43m=\u001B[39;49m\u001B[38;5;28;43mself\u001B[39;49m\u001B[38;5;241;43m.\u001B[39;49m\u001B[43mdtype\u001B[49m\n\u001B[1;32m    150\u001B[0m \u001B[43m    \u001B[49m\u001B[43m)\u001B[49m\n\u001B[1;32m    151\u001B[0m     quantized_model\u001B[38;5;241m.\u001B[39meval()\n\u001B[1;32m    153\u001B[0m start_time \u001B[38;5;241m=\u001B[39m time\u001B[38;5;241m.\u001B[39mtime()\n",
      "File \u001B[0;32m~/miniconda3/envs/bitnet-cpp/lib/python3.9/site-packages/transformers/models/auto/auto_factory.py:549\u001B[0m, in \u001B[0;36m_BaseAutoModelClass.from_pretrained\u001B[0;34m(cls, pretrained_model_name_or_path, *model_args, **kwargs)\u001B[0m\n\u001B[1;32m    546\u001B[0m \u001B[38;5;28;01mif\u001B[39;00m kwargs\u001B[38;5;241m.\u001B[39mget(\u001B[38;5;124m\"\u001B[39m\u001B[38;5;124mquantization_config\u001B[39m\u001B[38;5;124m\"\u001B[39m) \u001B[38;5;129;01mis\u001B[39;00m \u001B[38;5;129;01mnot\u001B[39;00m \u001B[38;5;28;01mNone\u001B[39;00m:\n\u001B[1;32m    547\u001B[0m     _ \u001B[38;5;241m=\u001B[39m kwargs\u001B[38;5;241m.\u001B[39mpop(\u001B[38;5;124m\"\u001B[39m\u001B[38;5;124mquantization_config\u001B[39m\u001B[38;5;124m\"\u001B[39m)\n\u001B[0;32m--> 549\u001B[0m config, kwargs \u001B[38;5;241m=\u001B[39m \u001B[43mAutoConfig\u001B[49m\u001B[38;5;241;43m.\u001B[39;49m\u001B[43mfrom_pretrained\u001B[49m\u001B[43m(\u001B[49m\n\u001B[1;32m    550\u001B[0m \u001B[43m    \u001B[49m\u001B[43mpretrained_model_name_or_path\u001B[49m\u001B[43m,\u001B[49m\n\u001B[1;32m    551\u001B[0m \u001B[43m    \u001B[49m\u001B[43mreturn_unused_kwargs\u001B[49m\u001B[38;5;241;43m=\u001B[39;49m\u001B[38;5;28;43;01mTrue\u001B[39;49;00m\u001B[43m,\u001B[49m\n\u001B[1;32m    552\u001B[0m \u001B[43m    \u001B[49m\u001B[43mcode_revision\u001B[49m\u001B[38;5;241;43m=\u001B[39;49m\u001B[43mcode_revision\u001B[49m\u001B[43m,\u001B[49m\n\u001B[1;32m    553\u001B[0m \u001B[43m    \u001B[49m\u001B[43m_commit_hash\u001B[49m\u001B[38;5;241;43m=\u001B[39;49m\u001B[43mcommit_hash\u001B[49m\u001B[43m,\u001B[49m\n\u001B[1;32m    554\u001B[0m \u001B[43m    \u001B[49m\u001B[38;5;241;43m*\u001B[39;49m\u001B[38;5;241;43m*\u001B[39;49m\u001B[43mhub_kwargs\u001B[49m\u001B[43m,\u001B[49m\n\u001B[1;32m    555\u001B[0m \u001B[43m    \u001B[49m\u001B[38;5;241;43m*\u001B[39;49m\u001B[38;5;241;43m*\u001B[39;49m\u001B[43mkwargs\u001B[49m\u001B[43m,\u001B[49m\n\u001B[1;32m    556\u001B[0m \u001B[43m\u001B[49m\u001B[43m)\u001B[49m\n\u001B[1;32m    558\u001B[0m \u001B[38;5;66;03m# if torch_dtype=auto was passed here, ensure to pass it on\u001B[39;00m\n\u001B[1;32m    559\u001B[0m \u001B[38;5;28;01mif\u001B[39;00m kwargs_orig\u001B[38;5;241m.\u001B[39mget(\u001B[38;5;124m\"\u001B[39m\u001B[38;5;124mtorch_dtype\u001B[39m\u001B[38;5;124m\"\u001B[39m, \u001B[38;5;28;01mNone\u001B[39;00m) \u001B[38;5;241m==\u001B[39m \u001B[38;5;124m\"\u001B[39m\u001B[38;5;124mauto\u001B[39m\u001B[38;5;124m\"\u001B[39m:\n",
      "File \u001B[0;32m~/miniconda3/envs/bitnet-cpp/lib/python3.9/site-packages/transformers/models/auto/configuration_auto.py:1333\u001B[0m, in \u001B[0;36mAutoConfig.from_pretrained\u001B[0;34m(cls, pretrained_model_name_or_path, **kwargs)\u001B[0m\n\u001B[1;32m   1330\u001B[0m trust_remote_code \u001B[38;5;241m=\u001B[39m kwargs\u001B[38;5;241m.\u001B[39mpop(\u001B[38;5;124m\"\u001B[39m\u001B[38;5;124mtrust_remote_code\u001B[39m\u001B[38;5;124m\"\u001B[39m, \u001B[38;5;28;01mNone\u001B[39;00m)\n\u001B[1;32m   1331\u001B[0m code_revision \u001B[38;5;241m=\u001B[39m kwargs\u001B[38;5;241m.\u001B[39mpop(\u001B[38;5;124m\"\u001B[39m\u001B[38;5;124mcode_revision\u001B[39m\u001B[38;5;124m\"\u001B[39m, \u001B[38;5;28;01mNone\u001B[39;00m)\n\u001B[0;32m-> 1333\u001B[0m config_dict, unused_kwargs \u001B[38;5;241m=\u001B[39m \u001B[43mPretrainedConfig\u001B[49m\u001B[38;5;241;43m.\u001B[39;49m\u001B[43mget_config_dict\u001B[49m\u001B[43m(\u001B[49m\u001B[43mpretrained_model_name_or_path\u001B[49m\u001B[43m,\u001B[49m\u001B[43m \u001B[49m\u001B[38;5;241;43m*\u001B[39;49m\u001B[38;5;241;43m*\u001B[39;49m\u001B[43mkwargs\u001B[49m\u001B[43m)\u001B[49m\n\u001B[1;32m   1334\u001B[0m has_remote_code \u001B[38;5;241m=\u001B[39m \u001B[38;5;124m\"\u001B[39m\u001B[38;5;124mauto_map\u001B[39m\u001B[38;5;124m\"\u001B[39m \u001B[38;5;129;01min\u001B[39;00m config_dict \u001B[38;5;129;01mand\u001B[39;00m \u001B[38;5;124m\"\u001B[39m\u001B[38;5;124mAutoConfig\u001B[39m\u001B[38;5;124m\"\u001B[39m \u001B[38;5;129;01min\u001B[39;00m config_dict[\u001B[38;5;124m\"\u001B[39m\u001B[38;5;124mauto_map\u001B[39m\u001B[38;5;124m\"\u001B[39m]\n\u001B[1;32m   1335\u001B[0m has_local_code \u001B[38;5;241m=\u001B[39m \u001B[38;5;124m\"\u001B[39m\u001B[38;5;124mmodel_type\u001B[39m\u001B[38;5;124m\"\u001B[39m \u001B[38;5;129;01min\u001B[39;00m config_dict \u001B[38;5;129;01mand\u001B[39;00m config_dict[\u001B[38;5;124m\"\u001B[39m\u001B[38;5;124mmodel_type\u001B[39m\u001B[38;5;124m\"\u001B[39m] \u001B[38;5;129;01min\u001B[39;00m CONFIG_MAPPING\n",
      "File \u001B[0;32m~/miniconda3/envs/bitnet-cpp/lib/python3.9/site-packages/transformers/configuration_utils.py:662\u001B[0m, in \u001B[0;36mPretrainedConfig.get_config_dict\u001B[0;34m(cls, pretrained_model_name_or_path, **kwargs)\u001B[0m\n\u001B[1;32m    660\u001B[0m original_kwargs \u001B[38;5;241m=\u001B[39m copy\u001B[38;5;241m.\u001B[39mdeepcopy(kwargs)\n\u001B[1;32m    661\u001B[0m \u001B[38;5;66;03m# Get config dict associated with the base config file\u001B[39;00m\n\u001B[0;32m--> 662\u001B[0m config_dict, kwargs \u001B[38;5;241m=\u001B[39m \u001B[38;5;28;43mcls\u001B[39;49m\u001B[38;5;241;43m.\u001B[39;49m\u001B[43m_get_config_dict\u001B[49m\u001B[43m(\u001B[49m\u001B[43mpretrained_model_name_or_path\u001B[49m\u001B[43m,\u001B[49m\u001B[43m \u001B[49m\u001B[38;5;241;43m*\u001B[39;49m\u001B[38;5;241;43m*\u001B[39;49m\u001B[43mkwargs\u001B[49m\u001B[43m)\u001B[49m\n\u001B[1;32m    663\u001B[0m \u001B[38;5;28;01mif\u001B[39;00m config_dict \u001B[38;5;129;01mis\u001B[39;00m \u001B[38;5;28;01mNone\u001B[39;00m:\n\u001B[1;32m    664\u001B[0m     \u001B[38;5;28;01mreturn\u001B[39;00m {}, kwargs\n",
      "File \u001B[0;32m~/miniconda3/envs/bitnet-cpp/lib/python3.9/site-packages/transformers/configuration_utils.py:721\u001B[0m, in \u001B[0;36mPretrainedConfig._get_config_dict\u001B[0;34m(cls, pretrained_model_name_or_path, **kwargs)\u001B[0m\n\u001B[1;32m    717\u001B[0m configuration_file \u001B[38;5;241m=\u001B[39m kwargs\u001B[38;5;241m.\u001B[39mpop(\u001B[38;5;124m\"\u001B[39m\u001B[38;5;124m_configuration_file\u001B[39m\u001B[38;5;124m\"\u001B[39m, CONFIG_NAME) \u001B[38;5;28;01mif\u001B[39;00m gguf_file \u001B[38;5;129;01mis\u001B[39;00m \u001B[38;5;28;01mNone\u001B[39;00m \u001B[38;5;28;01melse\u001B[39;00m gguf_file\n\u001B[1;32m    719\u001B[0m \u001B[38;5;28;01mtry\u001B[39;00m:\n\u001B[1;32m    720\u001B[0m     \u001B[38;5;66;03m# Load from local folder or from cache or download from model Hub and cache\u001B[39;00m\n\u001B[0;32m--> 721\u001B[0m     resolved_config_file \u001B[38;5;241m=\u001B[39m \u001B[43mcached_file\u001B[49m\u001B[43m(\u001B[49m\n\u001B[1;32m    722\u001B[0m \u001B[43m        \u001B[49m\u001B[43mpretrained_model_name_or_path\u001B[49m\u001B[43m,\u001B[49m\n\u001B[1;32m    723\u001B[0m \u001B[43m        \u001B[49m\u001B[43mconfiguration_file\u001B[49m\u001B[43m,\u001B[49m\n\u001B[1;32m    724\u001B[0m \u001B[43m        \u001B[49m\u001B[43mcache_dir\u001B[49m\u001B[38;5;241;43m=\u001B[39;49m\u001B[43mcache_dir\u001B[49m\u001B[43m,\u001B[49m\n\u001B[1;32m    725\u001B[0m \u001B[43m        \u001B[49m\u001B[43mforce_download\u001B[49m\u001B[38;5;241;43m=\u001B[39;49m\u001B[43mforce_download\u001B[49m\u001B[43m,\u001B[49m\n\u001B[1;32m    726\u001B[0m \u001B[43m        \u001B[49m\u001B[43mproxies\u001B[49m\u001B[38;5;241;43m=\u001B[39;49m\u001B[43mproxies\u001B[49m\u001B[43m,\u001B[49m\n\u001B[1;32m    727\u001B[0m \u001B[43m        \u001B[49m\u001B[43mresume_download\u001B[49m\u001B[38;5;241;43m=\u001B[39;49m\u001B[43mresume_download\u001B[49m\u001B[43m,\u001B[49m\n\u001B[1;32m    728\u001B[0m \u001B[43m        \u001B[49m\u001B[43mlocal_files_only\u001B[49m\u001B[38;5;241;43m=\u001B[39;49m\u001B[43mlocal_files_only\u001B[49m\u001B[43m,\u001B[49m\n\u001B[1;32m    729\u001B[0m \u001B[43m        \u001B[49m\u001B[43mtoken\u001B[49m\u001B[38;5;241;43m=\u001B[39;49m\u001B[43mtoken\u001B[49m\u001B[43m,\u001B[49m\n\u001B[1;32m    730\u001B[0m \u001B[43m        \u001B[49m\u001B[43muser_agent\u001B[49m\u001B[38;5;241;43m=\u001B[39;49m\u001B[43muser_agent\u001B[49m\u001B[43m,\u001B[49m\n\u001B[1;32m    731\u001B[0m \u001B[43m        \u001B[49m\u001B[43mrevision\u001B[49m\u001B[38;5;241;43m=\u001B[39;49m\u001B[43mrevision\u001B[49m\u001B[43m,\u001B[49m\n\u001B[1;32m    732\u001B[0m \u001B[43m        \u001B[49m\u001B[43msubfolder\u001B[49m\u001B[38;5;241;43m=\u001B[39;49m\u001B[43msubfolder\u001B[49m\u001B[43m,\u001B[49m\n\u001B[1;32m    733\u001B[0m \u001B[43m        \u001B[49m\u001B[43m_commit_hash\u001B[49m\u001B[38;5;241;43m=\u001B[39;49m\u001B[43mcommit_hash\u001B[49m\u001B[43m,\u001B[49m\n\u001B[1;32m    734\u001B[0m \u001B[43m    \u001B[49m\u001B[43m)\u001B[49m\n\u001B[1;32m    735\u001B[0m     \u001B[38;5;28;01mif\u001B[39;00m resolved_config_file \u001B[38;5;129;01mis\u001B[39;00m \u001B[38;5;28;01mNone\u001B[39;00m:\n\u001B[1;32m    736\u001B[0m         \u001B[38;5;28;01mreturn\u001B[39;00m \u001B[38;5;28;01mNone\u001B[39;00m, kwargs\n",
      "File \u001B[0;32m~/miniconda3/envs/bitnet-cpp/lib/python3.9/site-packages/transformers/utils/hub.py:322\u001B[0m, in \u001B[0;36mcached_file\u001B[0;34m(path_or_repo_id, filename, **kwargs)\u001B[0m\n\u001B[1;32m    264\u001B[0m \u001B[38;5;28;01mdef\u001B[39;00m\u001B[38;5;250m \u001B[39m\u001B[38;5;21mcached_file\u001B[39m(\n\u001B[1;32m    265\u001B[0m     path_or_repo_id: Union[\u001B[38;5;28mstr\u001B[39m, os\u001B[38;5;241m.\u001B[39mPathLike],\n\u001B[1;32m    266\u001B[0m     filename: \u001B[38;5;28mstr\u001B[39m,\n\u001B[1;32m    267\u001B[0m     \u001B[38;5;241m*\u001B[39m\u001B[38;5;241m*\u001B[39mkwargs,\n\u001B[1;32m    268\u001B[0m ) \u001B[38;5;241m-\u001B[39m\u001B[38;5;241m>\u001B[39m Optional[\u001B[38;5;28mstr\u001B[39m]:\n\u001B[1;32m    269\u001B[0m \u001B[38;5;250m    \u001B[39m\u001B[38;5;124;03m\"\"\"\u001B[39;00m\n\u001B[1;32m    270\u001B[0m \u001B[38;5;124;03m    Tries to locate a file in a local folder and repo, downloads and cache it if necessary.\u001B[39;00m\n\u001B[1;32m    271\u001B[0m \n\u001B[0;32m   (...)\u001B[0m\n\u001B[1;32m    320\u001B[0m \u001B[38;5;124;03m    ```\u001B[39;00m\n\u001B[1;32m    321\u001B[0m \u001B[38;5;124;03m    \"\"\"\u001B[39;00m\n\u001B[0;32m--> 322\u001B[0m     file \u001B[38;5;241m=\u001B[39m \u001B[43mcached_files\u001B[49m\u001B[43m(\u001B[49m\u001B[43mpath_or_repo_id\u001B[49m\u001B[38;5;241;43m=\u001B[39;49m\u001B[43mpath_or_repo_id\u001B[49m\u001B[43m,\u001B[49m\u001B[43m \u001B[49m\u001B[43mfilenames\u001B[49m\u001B[38;5;241;43m=\u001B[39;49m\u001B[43m[\u001B[49m\u001B[43mfilename\u001B[49m\u001B[43m]\u001B[49m\u001B[43m,\u001B[49m\u001B[43m \u001B[49m\u001B[38;5;241;43m*\u001B[39;49m\u001B[38;5;241;43m*\u001B[39;49m\u001B[43mkwargs\u001B[49m\u001B[43m)\u001B[49m\n\u001B[1;32m    323\u001B[0m     file \u001B[38;5;241m=\u001B[39m file[\u001B[38;5;241m0\u001B[39m] \u001B[38;5;28;01mif\u001B[39;00m file \u001B[38;5;129;01mis\u001B[39;00m \u001B[38;5;129;01mnot\u001B[39;00m \u001B[38;5;28;01mNone\u001B[39;00m \u001B[38;5;28;01melse\u001B[39;00m file\n\u001B[1;32m    324\u001B[0m     \u001B[38;5;28;01mreturn\u001B[39;00m file\n",
      "File \u001B[0;32m~/miniconda3/envs/bitnet-cpp/lib/python3.9/site-packages/transformers/utils/hub.py:583\u001B[0m, in \u001B[0;36mcached_files\u001B[0;34m(path_or_repo_id, filenames, cache_dir, force_download, resume_download, proxies, token, revision, local_files_only, subfolder, repo_type, user_agent, _raise_exceptions_for_gated_repo, _raise_exceptions_for_missing_entries, _raise_exceptions_for_connection_errors, _commit_hash, **deprecated_kwargs)\u001B[0m\n\u001B[1;32m    579\u001B[0m     revision_ \u001B[38;5;241m=\u001B[39m \u001B[38;5;124m\"\u001B[39m\u001B[38;5;124mmain\u001B[39m\u001B[38;5;124m\"\u001B[39m \u001B[38;5;28;01mif\u001B[39;00m revision \u001B[38;5;129;01mis\u001B[39;00m \u001B[38;5;28;01mNone\u001B[39;00m \u001B[38;5;28;01melse\u001B[39;00m revision\n\u001B[1;32m    580\u001B[0m     msg \u001B[38;5;241m=\u001B[39m (\n\u001B[1;32m    581\u001B[0m         \u001B[38;5;124mf\u001B[39m\u001B[38;5;124m\"\u001B[39m\u001B[38;5;124ma file named \u001B[39m\u001B[38;5;132;01m{\u001B[39;00mmissing_entries[\u001B[38;5;241m0\u001B[39m]\u001B[38;5;132;01m}\u001B[39;00m\u001B[38;5;124m\"\u001B[39m \u001B[38;5;28;01mif\u001B[39;00m \u001B[38;5;28mlen\u001B[39m(missing_entries) \u001B[38;5;241m==\u001B[39m \u001B[38;5;241m1\u001B[39m \u001B[38;5;28;01melse\u001B[39;00m \u001B[38;5;124mf\u001B[39m\u001B[38;5;124m\"\u001B[39m\u001B[38;5;124mfiles named \u001B[39m\u001B[38;5;132;01m{\u001B[39;00m(\u001B[38;5;241m*\u001B[39mmissing_entries,)\u001B[38;5;132;01m}\u001B[39;00m\u001B[38;5;124m\"\u001B[39m\n\u001B[1;32m    582\u001B[0m     )\n\u001B[0;32m--> 583\u001B[0m     \u001B[38;5;28;01mraise\u001B[39;00m \u001B[38;5;167;01mOSError\u001B[39;00m(\n\u001B[1;32m    584\u001B[0m         \u001B[38;5;124mf\u001B[39m\u001B[38;5;124m\"\u001B[39m\u001B[38;5;132;01m{\u001B[39;00mpath_or_repo_id\u001B[38;5;132;01m}\u001B[39;00m\u001B[38;5;124m does not appear to have \u001B[39m\u001B[38;5;132;01m{\u001B[39;00mmsg\u001B[38;5;132;01m}\u001B[39;00m\u001B[38;5;124m. Checkout \u001B[39m\u001B[38;5;124m'\u001B[39m\u001B[38;5;124mhttps://huggingface.co/\u001B[39m\u001B[38;5;132;01m{\u001B[39;00mpath_or_repo_id\u001B[38;5;132;01m}\u001B[39;00m\u001B[38;5;124m/tree/\u001B[39m\u001B[38;5;132;01m{\u001B[39;00mrevision_\u001B[38;5;132;01m}\u001B[39;00m\u001B[38;5;124m'\u001B[39m\u001B[38;5;124m\"\u001B[39m\n\u001B[1;32m    585\u001B[0m         \u001B[38;5;124m\"\u001B[39m\u001B[38;5;124m for available files.\u001B[39m\u001B[38;5;124m\"\u001B[39m\n\u001B[1;32m    586\u001B[0m     )\n\u001B[1;32m    588\u001B[0m \u001B[38;5;66;03m# Remove potential missing entries (we can silently remove them at this point based on the flags)\u001B[39;00m\n\u001B[1;32m    589\u001B[0m resolved_files \u001B[38;5;241m=\u001B[39m [file \u001B[38;5;28;01mfor\u001B[39;00m file \u001B[38;5;129;01min\u001B[39;00m resolved_files \u001B[38;5;28;01mif\u001B[39;00m file \u001B[38;5;129;01mis\u001B[39;00m \u001B[38;5;129;01mnot\u001B[39;00m \u001B[38;5;28;01mNone\u001B[39;00m]\n",
      "\u001B[0;31mOSError\u001B[0m: tiiuae/Falcon3-7B-Instruct-1.58bit-GGUF does not appear to have a file named /home/pathfinder/models/tiiuae/Falcon3-1B-Instruct-1.58bit/ggml-model-i2_s.gguf. Checkout 'https://huggingface.co/tiiuae/Falcon3-7B-Instruct-1.58bit-GGUF/tree/main' for available files."
     ]
    }
   ],
   "execution_count": 10
  },
  {
   "metadata": {},
   "cell_type": "code",
   "source": [
    "bitnet.speculative_decoding(\n",
    "    text=bitnet.format_falcon_prompt(\n",
    "        system_prompt=system_prompt,\n",
    "        user_prompt=user_prompt,\n",
    "        assistant_response=\"Quantum\"\n",
    "    ),\n",
    "    max_new_tokens=100,\n",
    "    num_assistant_tokens=5,\n",
    "    confidence_threshold=0.25,\n",
    "    verbose=True\n",
    ")"
   ],
   "id": "3b672347decaf75a",
   "outputs": [],
   "execution_count": null
  },
  {
   "metadata": {},
   "cell_type": "markdown",
   "source": "# Evaluation",
   "id": "8718388d62233e0"
  },
  {
   "metadata": {},
   "cell_type": "markdown",
   "source": "## HellaSwag",
   "id": "4c291ae1fef0f1ac"
  }
 ],
 "metadata": {
  "kernelspec": {
   "display_name": "Python 3",
   "language": "python",
   "name": "python3"
  },
  "language_info": {
   "codemirror_mode": {
    "name": "ipython",
    "version": 2
   },
   "file_extension": ".py",
   "mimetype": "text/x-python",
   "name": "python",
   "nbconvert_exporter": "python",
   "pygments_lexer": "ipython2",
   "version": "2.7.6"
  }
 },
 "nbformat": 4,
 "nbformat_minor": 5
}
