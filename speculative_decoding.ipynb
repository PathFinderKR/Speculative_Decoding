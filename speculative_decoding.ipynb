{
 "cells": [
  {
   "metadata": {},
   "cell_type": "markdown",
   "source": "# Preparation",
   "id": "f6de6af755fdb886"
  },
  {
   "cell_type": "code",
   "id": "initial_id",
   "metadata": {
    "collapsed": true
   },
   "source": [
    "\"\"\"\n",
    "# Download model\n",
    "huggingface-cli download tiiuae/Falcon3-3B-Instruct-1.58bit --local-dir ~/models/tiiuae/Falcon3-3B-Instruct-1.58bit\n",
    "# Compile\n",
    "python setup_env.py -md ~/models/tiiuae/Falcon3-3B-Instruct-1.58bit -q i2_s\n",
    "\"\"\""
   ],
   "outputs": [],
   "execution_count": null
  },
  {
   "metadata": {},
   "cell_type": "markdown",
   "source": "# Importing Libraries",
   "id": "dffe6bf4c285bea9"
  },
  {
   "metadata": {},
   "cell_type": "code",
   "source": [
    "import os\n",
    "import gc\n",
    "from dataclasses import dataclass\n",
    "import torch\n",
    "from transformers import AutoModelForCausalLM\n",
    "from utils import set_seed\n",
    "from speculative_decoding import BitNet"
   ],
   "id": "62ddb7478aa2932d",
   "outputs": [],
   "execution_count": null
  },
  {
   "metadata": {},
   "cell_type": "markdown",
   "source": "# Configuration",
   "id": "f8e21d5ab2dcbde7"
  },
  {
   "metadata": {},
   "cell_type": "code",
   "source": [
    "@dataclass\n",
    "class CONFIG:\n",
    "    # Debug\n",
    "    debug: bool = False\n",
    "    verbose: bool = True\n",
    "\n",
    "    # Model\n",
    "    ## Tokenizer\n",
    "    tokenizer_id: str = \"tiiuae/Falcon3-1B-Instruct\"\n",
    "    ## HuggingFace\n",
    "    model_path: str       = \"/home/pathfinder/models/tiiuae/Falcon3-3B-Instruct\"  # 3B\n",
    "    model_small_path: str = \"/home/pathfinder/models/tiiuae/Falcon3-1B-Instruct\"  # 1B\n",
    "    ## GGUF (1bit)\n",
    "    bitnet_path: str = \"/home/pathfinder/models/tiiuae/Falcon3-3B-Instruct-1.58bit/ggml-model-i2_s.gguf\" # 3B\n",
    "    ctx_size: int = 1024\n",
    "\n",
    "    # Generation\n",
    "    max_new_tokens: int = 100\n",
    "    ## Speculative Decoding\n",
    "    num_assistant_tokens: int = 5\n",
    "    confidence_threshold: float = 0.4\n",
    "\n",
    "    # Device\n",
    "    n_threads: int = 12\n",
    "\n",
    "    # Seed\n",
    "    seed = 42\n",
    "\n",
    "config = CONFIG()"
   ],
   "id": "a6b66f6771b15607",
   "outputs": [],
   "execution_count": null
  },
  {
   "metadata": {},
   "cell_type": "code",
   "source": "os.environ[\"TOKENIZERS_PARALLELISM\"] = \"false\"",
   "id": "784cb1797748b6fc",
   "outputs": [],
   "execution_count": null
  },
  {
   "metadata": {},
   "cell_type": "code",
   "source": "set_seed(config.seed)",
   "id": "ea880def9f4f766c",
   "outputs": [],
   "execution_count": null
  },
  {
   "metadata": {},
   "cell_type": "code",
   "source": [
    "system_prompt = \"You are an helpful assistant.\"\n",
    "user_prompt = \"Explain quantum mechanics in detail please.\""
   ],
   "id": "16b44cddf2e377f0",
   "outputs": [],
   "execution_count": null
  },
  {
   "metadata": {},
   "cell_type": "markdown",
   "source": "# Model",
   "id": "896a55c2e60df54a"
  },
  {
   "metadata": {},
   "cell_type": "code",
   "source": [
    "bitnet = BitNet()\n",
    "bitnet.start_server(\n",
    "    bitnet_path=config.bitnet_path,\n",
    "    ctx_size=config.ctx_size,\n",
    "    n_threads=config.n_threads,\n",
    "    verbose=config.verbose\n",
    ")\n",
    "bitnet.init_tokenizer(\n",
    "    tokenizer_id=config.tokenizer_id,\n",
    "    verbose=False\n",
    ")\n",
    "bitnet.init_model(\n",
    "    model_path=config.model_path,\n",
    "    verbose=True\n",
    ")"
   ],
   "id": "ab56cfc0e8ed0735",
   "outputs": [],
   "execution_count": null
  },
  {
   "metadata": {},
   "cell_type": "code",
   "source": [
    "text = bitnet.format_falcon_prompt(\n",
    "    system_prompt=system_prompt,\n",
    "    user_prompt=user_prompt\n",
    ")\n",
    "print(text)"
   ],
   "id": "ff3e4928039e3dca",
   "outputs": [],
   "execution_count": null
  },
  {
   "metadata": {},
   "cell_type": "markdown",
   "source": "# Generation",
   "id": "ceb2d26bf8121fc8"
  },
  {
   "metadata": {},
   "cell_type": "code",
   "source": [
    "# 3B (fp32)\n",
    "bitnet.generate_hf(\n",
    "    text=text,\n",
    "    max_new_tokens=config.max_new_tokens,\n",
    "    stream=True,\n",
    "    verbose=config.verbose\n",
    ")"
   ],
   "id": "ee07d4eb922e80b6",
   "outputs": [],
   "execution_count": null
  },
  {
   "metadata": {},
   "cell_type": "code",
   "source": [
    "# 3B (1bit)\n",
    "bitnet.generate_gguf(\n",
    "    text=text,\n",
    "    max_new_tokens=config.max_new_tokens,\n",
    "    verbose=config.verbose\n",
    ")"
   ],
   "id": "ba8089765ef04b1",
   "outputs": [],
   "execution_count": null
  },
  {
   "metadata": {},
   "cell_type": "code",
   "source": [
    "gc.collect()\n",
    "torch.cuda.empty_cache()"
   ],
   "id": "398705bef4859c29",
   "outputs": [],
   "execution_count": null
  },
  {
   "metadata": {},
   "cell_type": "markdown",
   "source": "## Speculative Decoding",
   "id": "775ef2800620870a"
  },
  {
   "metadata": {},
   "cell_type": "code",
   "source": [
    "# 3B-1B\n",
    "bitnet.speculative_decoding_hf(\n",
    "    small_model=AutoModelForCausalLM.from_pretrained(\n",
    "        config.model_small_path,\n",
    "        device_map=\"cpu\",\n",
    "        dtype=torch.float32\n",
    "    ),\n",
    "    text=text,\n",
    "    max_new_tokens=config.max_new_tokens,\n",
    "    num_assistant_tokens=config.num_assistant_tokens,\n",
    "    confidence_threshold=config.confidence_threshold,\n",
    "    verbose=True\n",
    ")\n",
    "gc.collect()\n",
    "torch.cuda.empty_cache()"
   ],
   "id": "b916781114aa635a",
   "outputs": [],
   "execution_count": null
  },
  {
   "metadata": {},
   "cell_type": "code",
   "source": [
    "# 32bit-1bit\n",
    "bitnet.speculative_decoding(\n",
    "    text=text,\n",
    "    max_new_tokens=config.max_new_tokens,\n",
    "    num_assistant_tokens=config.num_assistant_tokens,\n",
    "    confidence_threshold=config.confidence_threshold,\n",
    "    verbose=True\n",
    ")\n",
    "gc.collect()\n",
    "torch.cuda.empty_cache()"
   ],
   "id": "5912a38dc912fd7",
   "outputs": [],
   "execution_count": null
  },
  {
   "metadata": {},
   "cell_type": "code",
   "source": "# 32bit-2bit",
   "id": "ba9928f877fa7140",
   "outputs": [],
   "execution_count": null
  },
  {
   "metadata": {},
   "cell_type": "markdown",
   "source": "# Evaluation",
   "id": "8718388d62233e0"
  },
  {
   "metadata": {},
   "cell_type": "markdown",
   "source": "## HellaSwag",
   "id": "4c291ae1fef0f1ac"
  },
  {
   "metadata": {},
   "cell_type": "code",
   "source": "",
   "id": "fcb638c4f837c9f3",
   "outputs": [],
   "execution_count": null
  }
 ],
 "metadata": {
  "kernelspec": {
   "display_name": "Python 3",
   "language": "python",
   "name": "python3"
  },
  "language_info": {
   "codemirror_mode": {
    "name": "ipython",
    "version": 2
   },
   "file_extension": ".py",
   "mimetype": "text/x-python",
   "name": "python",
   "nbconvert_exporter": "python",
   "pygments_lexer": "ipython2",
   "version": "2.7.6"
  }
 },
 "nbformat": 4,
 "nbformat_minor": 5
}
