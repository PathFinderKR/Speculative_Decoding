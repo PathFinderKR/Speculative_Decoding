{
 "cells": [
  {
   "metadata": {},
   "cell_type": "markdown",
   "source": "# Preparation",
   "id": "f6de6af755fdb886"
  },
  {
   "cell_type": "code",
   "id": "initial_id",
   "metadata": {
    "collapsed": true,
    "ExecuteTime": {
     "end_time": "2025-10-15T15:15:04.921907Z",
     "start_time": "2025-10-15T15:15:04.914439Z"
    }
   },
   "source": [
    "\"\"\"\n",
    "# Download model\n",
    "huggingface-cli download tiiuae/Falcon3-1B-Instruct-1.58bit --local-dir ~/models/tiiuae/Falcon3-1B-Instruct-1.58bit\n",
    "# Compile\n",
    "python setup_env.py -md ~/models/tiiuae/Falcon3-1B-Instruct-1.58bit -q i2_s\n",
    "\n",
    "# Download Falcon3-1B-Instruct\n",
    "huggingface-cli download tiiuae/Falcon3-1B-Instruct --local-dir ~/models/tiiuae/Falcon3-1B-Instruct\n",
    "\"\"\""
   ],
   "outputs": [
    {
     "data": {
      "text/plain": [
       "'\\n# Download model\\nhuggingface-cli download tiiuae/Falcon3-1B-Instruct-1.58bit --local-dir ~/models/tiiuae/Falcon3-1B-Instruct-1.58bit\\n# Compile\\npython setup_env.py -md ~/models/tiiuae/Falcon3-1B-Instruct-1.58bit -q i2_s\\n\\n# Download Falcon3-1B-Instruct\\nhuggingface-cli download tiiuae/Falcon3-1B-Instruct --local-dir ~/models/tiiuae/Falcon3-1B-Instruct\\n'"
      ]
     },
     "execution_count": 1,
     "metadata": {},
     "output_type": "execute_result"
    }
   ],
   "execution_count": 1
  },
  {
   "metadata": {},
   "cell_type": "markdown",
   "source": "# Importing Libraries",
   "id": "dffe6bf4c285bea9"
  },
  {
   "metadata": {
    "ExecuteTime": {
     "end_time": "2025-10-15T15:15:09.015245Z",
     "start_time": "2025-10-15T15:15:05.013570Z"
    }
   },
   "cell_type": "code",
   "source": [
    "import os\n",
    "from dataclasses import dataclass\n",
    "import torch\n",
    "from transformers import AutoTokenizer\n",
    "from utils import set_seed, generate_response\n",
    "from utils import BitNet\n",
    "#from speculative_decoding import generate_draft_response, speculative_decoding, verify_with_target"
   ],
   "id": "62ddb7478aa2932d",
   "outputs": [
    {
     "name": "stderr",
     "output_type": "stream",
     "text": [
      "/home/pathfinder/miniconda3/envs/bitnet-cpp/lib/python3.9/site-packages/requests/__init__.py:86: RequestsDependencyWarning: Unable to find acceptable character detection dependency (chardet or charset_normalizer).\n",
      "  warnings.warn(\n"
     ]
    }
   ],
   "execution_count": 2
  },
  {
   "metadata": {},
   "cell_type": "markdown",
   "source": "# Configuration",
   "id": "f8e21d5ab2dcbde7"
  },
  {
   "metadata": {
    "ExecuteTime": {
     "end_time": "2025-10-15T15:15:09.056087Z",
     "start_time": "2025-10-15T15:15:09.052553Z"
    }
   },
   "cell_type": "code",
   "source": [
    "@dataclass\n",
    "class CONFIG:\n",
    "    # Debug\n",
    "    debug: bool = False\n",
    "    verbose: bool = True\n",
    "\n",
    "    # Model\n",
    "    tokenizer_id: str = \"tiiuae/Falcon3-1B-Instruct\"\n",
    "    model_path: str = \"/home/pathfinder/models/tiiuae/Falcon3-1B-Instruct-1.58bit/ggml-model-f32.gguf\"\n",
    "    quantized_path: str = \"/home/pathfinder/models/tiiuae/Falcon3-1B-Instruct-1.58bit/ggml-model-i2_s.gguf\"\n",
    "    ctx_size: int = 1024\n",
    "\n",
    "    # Generation\n",
    "    max_new_tokens: int = 256\n",
    "    ## Speculative Decoding\n",
    "    num_assistant_tokens: int = 5\n",
    "    assistant_confidence_threshold: float = 0.4\n",
    "\n",
    "    # Device\n",
    "    n_threads: int = 12\n",
    "\n",
    "    # Seed\n",
    "    seed = 42\n",
    "\n",
    "config = CONFIG()"
   ],
   "id": "a6b66f6771b15607",
   "outputs": [],
   "execution_count": 3
  },
  {
   "metadata": {
    "ExecuteTime": {
     "end_time": "2025-10-15T15:15:09.063573Z",
     "start_time": "2025-10-15T15:15:09.060767Z"
    }
   },
   "cell_type": "code",
   "source": [
    "os.environ[\"TOKENIZERS_PARALLELISM\"] = \"false\"\n",
    "device = \"cpu\"\n",
    "eos_token = \"<|endoftext|>\"\n",
    "pad_token = \"<|pad|>\"\n",
    "assistant_token = \"<|assistant|>\""
   ],
   "id": "784cb1797748b6fc",
   "outputs": [],
   "execution_count": 4
  },
  {
   "metadata": {
    "ExecuteTime": {
     "end_time": "2025-10-15T15:15:09.095523Z",
     "start_time": "2025-10-15T15:15:09.087396Z"
    }
   },
   "cell_type": "code",
   "source": "set_seed(config.seed)",
   "id": "ea880def9f4f766c",
   "outputs": [
    {
     "name": "stdout",
     "output_type": "stream",
     "text": [
      "Random seed set to 42\n"
     ]
    }
   ],
   "execution_count": 5
  },
  {
   "metadata": {
    "ExecuteTime": {
     "end_time": "2025-10-15T15:15:09.112490Z",
     "start_time": "2025-10-15T15:15:09.109936Z"
    }
   },
   "cell_type": "code",
   "source": [
    "system_prompt = \"You are an helpful assistant.\"\n",
    "user_prompt = \"Explain quantum mechanics in detail please.\"\n",
    "assistant_response = \"Quantum mechanics is a fundamental theory in physics that describes the physical properties of nature at the scale of atoms and subatomic particles, such as electrons, protons, and photons.\""
   ],
   "id": "16b44cddf2e377f0",
   "outputs": [],
   "execution_count": 6
  },
  {
   "metadata": {},
   "cell_type": "markdown",
   "source": "# Model",
   "id": "896a55c2e60df54a"
  },
  {
   "metadata": {
    "ExecuteTime": {
     "end_time": "2025-10-15T15:15:09.795037Z",
     "start_time": "2025-10-15T15:15:09.117133Z"
    }
   },
   "cell_type": "code",
   "source": [
    "tokenizer = AutoTokenizer.from_pretrained(config.tokenizer_id, use_fast=True)\n",
    "tokenizer.pad_token = pad_token"
   ],
   "id": "a041e74e90ce2e5",
   "outputs": [],
   "execution_count": 7
  },
  {
   "metadata": {
    "ExecuteTime": {
     "end_time": "2025-10-15T15:15:10.878699Z",
     "start_time": "2025-10-15T15:15:09.800564Z"
    }
   },
   "cell_type": "code",
   "source": [
    "bitnet = BitNet(\n",
    "    model_path=config.quantized_path,\n",
    "    host=\"127.0.0.1\",\n",
    "    port=8080,\n",
    "    ctx_size=config.ctx_size,\n",
    "    n_threads=config.n_threads,\n",
    "    n_gpu_layers=0,\n",
    "    batch_size=1,\n",
    "    slot_id=1\n",
    ")\n",
    "bitnet.start_server()"
   ],
   "id": "e7bafe8ecbfa69ef",
   "outputs": [
    {
     "name": "stdout",
     "output_type": "stream",
     "text": [
      "🚀 Starting llama-server on 127.0.0.1:8080\n",
      "✅ Server is ready.\n"
     ]
    }
   ],
   "execution_count": 8
  },
  {
   "metadata": {
    "ExecuteTime": {
     "end_time": "2025-10-15T15:15:18.173480Z",
     "start_time": "2025-10-15T15:15:10.896094Z"
    }
   },
   "cell_type": "code",
   "source": [
    "bitnet.generate(\n",
    "    text=bitnet.format_falcon_prompt(\n",
    "        tokenizer=tokenizer,\n",
    "        system_prompt=system_prompt,\n",
    "        user_prompt=user_prompt,\n",
    "        assistant_response=assistant_response\n",
    "    ),\n",
    "    max_new_tokens=config.max_new_tokens,\n",
    "    verbose=config.verbose\n",
    ")"
   ],
   "id": "525bac4a23803d1a",
   "outputs": [
    {
     "name": "stdout",
     "output_type": "stream",
     "text": [
      "\n",
      "\u001B[95m──────────────────────────────────────────────────\n",
      "🧠 Generation Info\n",
      "──────────────────────────────────────────────────\u001B[0m\n",
      "\u001B[94m💬 User Input:\u001B[0m\n",
      "<|system|>\n",
      "You are an helpful assistant.\n",
      "<|user|>\n",
      "Explain quantum mechanics in detail please.\n",
      "<|assistant|>\n",
      "Quantum mechanics is a fundamental theory in physics that describes the physical properties of nature at the scale of atoms and subatomic particles, such as electrons, protons, and photons.\n",
      "\n",
      "\u001B[92m🟢 Generated Text:\u001B[0m\n",
      " At its most basic level, quantum mechanics is the result of different theories be a model of the quantum world. Three of the main theories according to this theory are: The quantum theory of the atom, the quantum theory of the proton, and the quantum theory of the radiation.\n",
      "\n",
      "1) Quantum Theory of the Atom:\n",
      "\n",
      "The quantum theory of the atom is based on the realization that light waves, such as electrons, are not a wave as was classically thought, but a particle. This thought was also recognized by Werner Heisenberg and Louis Lange. The quantum theory of the atom describes the particle representation of electrons and positrons, as well as the electron-positron interaction.\n",
      "\n",
      "In the answers to mechanics problems, the relationship between the different quantities in quantum mechanics is used to read the overall electron configuration of the atom. The two complementary properties of mass and charge and their electronic distribution can be described by methods called quantumconstants:\n",
      "- The electron and its own spin contribute \"number\".\n",
      "- Planck contributes \"frequency\". Using Planck's constant, you can calculate the frequency of the electron upon measuring it.\n",
      "- Electrons and positrons give \"+1\" to 2 + electrons compared to electrons and positrons respectively.\n",
      "\n",
      "\u001B[94m📊 Timings:\u001B[0m\n",
      "  - Prefill: 2.14 ms/token, 466.72 tokens/s\n",
      "  - Decode: 27.81 ms/token, 35.95 tokens/s\n",
      "\u001B[94m📦 Tokens:\u001B[0m\n",
      "  - Prefilled: 64\n",
      "  - Decoded: 256\n",
      "\u001B[94m🛑 Stop Reason:\u001B[0m Limit\n",
      "\n",
      "\u001B[95m──────────────────────────────────────────────────\n",
      "💡 Token Probabilities\n",
      "──────────────────────────────────────────────────\u001B[0m\n",
      "| Step | Token           |  Probability |\u001B[0m\n",
      "|------|-----------------|--------------|\u001B[0m\n",
      "|    1 |  At             |       60.07% |\u001B[0m\n",
      "|    2 |  its            |       48.55% |\u001B[0m\n",
      "|    3 |  most           |       76.78% |\u001B[0m\n",
      "|    4 |  basic          |       72.43% |\u001B[0m\n",
      "|    5 |  level          |       89.87% |\u001B[0m\n",
      "|    6 | ,               |       98.95% |\u001B[0m\n",
      "|    7 |  quantum        |       74.47% |\u001B[0m\n",
      "|    8 |  mechanics      |       99.22% |\u001B[0m\n",
      "|    9 |  is             |       42.79% |\u001B[0m\n",
      "|   10 |  the            |       34.76% |\u001B[0m\n",
      "|   11 |  result         |       20.85% |\u001B[0m\n",
      "|   12 |  of             |       99.74% |\u001B[0m\n",
      "|   13 |  different      |       33.32% |\u001B[0m\n",
      "|   14 |  theories       |       14.62% |\u001B[0m\n",
      "|   15 |  be             |       17.89% |\u001B[0m\n",
      "|   16 |  a              |        8.98% |\u001B[0m\n",
      "|   17 |  model          |       22.92% |\u001B[0m\n",
      "|   18 |  of             |       46.28% |\u001B[0m\n",
      "|   19 |  the            |       47.22% |\u001B[0m\n",
      "|   20 |  quantum        |       19.08% |\u001B[0m\n",
      "|   21 |  world          |       50.96% |\u001B[0m\n",
      "|   22 | .               |       37.40% |\u001B[0m\n",
      "|   23 |  Three          |       46.36% |\u001B[0m\n",
      "|   24 |  of             |       51.70% |\u001B[0m\n",
      "|   25 |  the            |       66.51% |\u001B[0m\n",
      "|   26 |  main           |       48.11% |\u001B[0m\n",
      "|   27 |  theories       |       76.24% |\u001B[0m\n",
      "|   28 |  according      |       29.18% |\u001B[0m\n",
      "|   29 |  to             |       98.21% |\u001B[0m\n",
      "|   30 |  this           |       38.61% |\u001B[0m\n",
      "|   31 |  theory         |       59.21% |\u001B[0m\n",
      "|   32 |  are            |       91.95% |\u001B[0m\n",
      "|   33 | :               |       43.15% |\u001B[0m\n",
      "|   34 |  The            |       34.49% |\u001B[0m\n",
      "|   35 |  quantum        |       18.54% |\u001B[0m\n",
      "|   36 |  theory         |       37.51% |\u001B[0m\n",
      "|   37 |  of             |       57.89% |\u001B[0m\n",
      "|   38 |  the            |       35.73% |\u001B[0m\n",
      "|   39 |  atom           |       86.86% |\u001B[0m\n",
      "|   40 | ,               |       85.70% |\u001B[0m\n",
      "|   41 |  the            |       68.50% |\u001B[0m\n",
      "|   42 |  quantum        |       84.22% |\u001B[0m\n",
      "|   43 |  theory         |       86.43% |\u001B[0m\n",
      "|   44 |  of             |       99.62% |\u001B[0m\n",
      "|   45 |  the            |       76.72% |\u001B[0m\n",
      "|   46 |  proton         |       24.57% |\u001B[0m\n",
      "|   47 | ,               |       84.74% |\u001B[0m\n",
      "|   48 |  and            |       99.23% |\u001B[0m\n",
      "|   49 |  the            |       94.93% |\u001B[0m\n",
      "|   50 |  quantum        |       92.89% |\u001B[0m\n",
      "|   51 |  theory         |       98.10% |\u001B[0m\n",
      "|   52 |  of             |       99.78% |\u001B[0m\n",
      "|   53 |  the            |       95.30% |\u001B[0m\n",
      "|   54 |  radiation      |       35.40% |\u001B[0m\n",
      "|   55 | .               |       94.52% |\u001B[0m\n",
      "|   56 | \\n              |       50.92% |\u001B[0m\n",
      "|   57 | \\n              |       86.18% |\u001B[0m\n",
      "|   58 | 1               |       48.86% |\u001B[0m\n",
      "|   59 | )               |       92.82% |\u001B[0m\n",
      "|   60 |  Quantum        |       71.17% |\u001B[0m\n",
      "|   61 |  Theory         |       52.48% |\u001B[0m\n",
      "|   62 |  of             |       99.13% |\u001B[0m\n",
      "|   63 |  the            |       97.90% |\u001B[0m\n",
      "|   64 |  Atom           |       98.43% |\u001B[0m\n",
      "|   65 | :               |       74.82% |\u001B[0m\n",
      "|   66 | \\n              |       25.04% |\u001B[0m\n",
      "|   67 | \\n              |       41.62% |\u001B[0m\n",
      "|   68 | The             |       29.50% |\u001B[0m\n",
      "|   69 |  quantum        |       78.75% |\u001B[0m\n",
      "|   70 |  theory         |       99.04% |\u001B[0m\n",
      "|   71 |  of             |       98.46% |\u001B[0m\n",
      "|   72 |  the            |       98.19% |\u001B[0m\n",
      "|   73 |  atom           |       99.83% |\u001B[0m\n",
      "|   74 |  is             |       41.62% |\u001B[0m\n",
      "|   75 |  based          |       32.64% |\u001B[0m\n",
      "|   76 |  on             |       98.04% |\u001B[0m\n",
      "|   77 |  the            |       79.13% |\u001B[0m\n",
      "|   78 |  realization    |       46.67% |\u001B[0m\n",
      "|   79 |  that           |       84.08% |\u001B[0m\n",
      "|   80 |  light          |       30.85% |\u001B[0m\n",
      "|   81 |  waves          |       32.38% |\u001B[0m\n",
      "|   82 | ,               |       25.66% |\u001B[0m\n",
      "|   83 |  such           |       21.03% |\u001B[0m\n",
      "|   84 |  as             |       99.93% |\u001B[0m\n",
      "|   85 |  electrons      |       42.67% |\u001B[0m\n",
      "|   86 | ,               |       43.53% |\u001B[0m\n",
      "|   87 |  are            |       45.95% |\u001B[0m\n",
      "|   88 |  not            |       44.85% |\u001B[0m\n",
      "|   89 |  a              |       11.48% |\u001B[0m\n",
      "|   90 |  wave           |       17.71% |\u001B[0m\n",
      "|   91 |  as             |       39.11% |\u001B[0m\n",
      "|   92 |  was            |       16.49% |\u001B[0m\n",
      "|   93 |  classically    |       19.22% |\u001B[0m\n",
      "|   94 |  thought        |       64.43% |\u001B[0m\n",
      "|   95 | ,               |       68.51% |\u001B[0m\n",
      "|   96 |  but            |       95.59% |\u001B[0m\n",
      "|   97 |  a              |       56.95% |\u001B[0m\n",
      "|   98 |  particle       |       36.72% |\u001B[0m\n",
      "|   99 | .               |       71.99% |\u001B[0m\n",
      "|  100 |  This           |       35.39% |\u001B[0m\n",
      "|  101 |  thought        |       22.70% |\u001B[0m\n",
      "|  102 |  was            |       38.16% |\u001B[0m\n",
      "|  103 |  also           |        8.76% |\u001B[0m\n",
      "|  104 |  recognized     |       10.68% |\u001B[0m\n",
      "|  105 |  by             |       67.43% |\u001B[0m\n",
      "|  106 |  Werner         |       19.86% |\u001B[0m\n",
      "|  107 |  He             |       99.81% |\u001B[0m\n",
      "|  108 | is              |       99.79% |\u001B[0m\n",
      "|  109 | enberg          |       99.99% |\u001B[0m\n",
      "|  110 |  and            |       35.01% |\u001B[0m\n",
      "|  111 |  Louis          |       65.81% |\u001B[0m\n",
      "|  112 |  Lange          |       40.53% |\u001B[0m\n",
      "|  113 | .               |       56.41% |\u001B[0m\n",
      "|  114 |  The            |       17.27% |\u001B[0m\n",
      "|  115 |  quantum        |       21.07% |\u001B[0m\n",
      "|  116 |  theory         |       93.63% |\u001B[0m\n",
      "|  117 |  of             |       89.37% |\u001B[0m\n",
      "|  118 |  the            |       96.50% |\u001B[0m\n",
      "|  119 |  atom           |       98.56% |\u001B[0m\n",
      "|  120 |  describes      |       18.36% |\u001B[0m\n",
      "|  121 |  the            |       55.47% |\u001B[0m\n",
      "|  122 |  particle       |       19.92% |\u001B[0m\n",
      "|  123 |  representation |       16.06% |\u001B[0m\n",
      "|  124 |  of             |       96.38% |\u001B[0m\n",
      "|  125 |  electrons      |       41.67% |\u001B[0m\n",
      "|  126 |  and            |       41.74% |\u001B[0m\n",
      "|  127 |  posit          |       54.82% |\u001B[0m\n",
      "|  128 | rons            |       99.38% |\u001B[0m\n",
      "|  129 | ,               |       29.49% |\u001B[0m\n",
      "|  130 |  as             |       28.68% |\u001B[0m\n",
      "|  131 |  well           |       83.84% |\u001B[0m\n",
      "|  132 |  as             |       99.54% |\u001B[0m\n",
      "|  133 |  the            |       50.64% |\u001B[0m\n",
      "|  134 |  electron       |        8.68% |\u001B[0m\n",
      "|  135 | -               |       54.35% |\u001B[0m\n",
      "|  136 | pos             |       53.04% |\u001B[0m\n",
      "|  137 | it              |       99.06% |\u001B[0m\n",
      "|  138 | ron             |       91.38% |\u001B[0m\n",
      "|  139 |  interaction    |       25.20% |\u001B[0m\n",
      "|  140 | .               |       51.35% |\u001B[0m\n",
      "|  141 | \\n              |       39.81% |\u001B[0m\n",
      "|  142 | \\n              |       99.05% |\u001B[0m\n",
      "|  143 | In              |       55.45% |\u001B[0m\n",
      "|  144 |  the            |       28.94% |\u001B[0m\n",
      "|  145 |  answers        |       47.32% |\u001B[0m\n",
      "|  146 |  to             |       68.95% |\u001B[0m\n",
      "|  147 |  mechanics      |       47.46% |\u001B[0m\n",
      "|  148 |  problems       |       48.31% |\u001B[0m\n",
      "|  149 | ,               |       77.71% |\u001B[0m\n",
      "|  150 |  the            |       29.41% |\u001B[0m\n",
      "|  151 |  relationship   |       26.44% |\u001B[0m\n",
      "|  152 |  between        |       90.89% |\u001B[0m\n",
      "|  153 |  the            |       32.44% |\u001B[0m\n",
      "|  154 |  different      |       15.40% |\u001B[0m\n",
      "|  155 |  quantities     |       16.20% |\u001B[0m\n",
      "|  156 |  in             |       35.58% |\u001B[0m\n",
      "|  157 |  quantum        |       33.52% |\u001B[0m\n",
      "|  158 |  mechanics      |       64.57% |\u001B[0m\n",
      "|  159 |  is             |       43.87% |\u001B[0m\n",
      "|  160 |  used           |       15.81% |\u001B[0m\n",
      "|  161 |  to             |       37.07% |\u001B[0m\n",
      "|  162 |  read           |       13.53% |\u001B[0m\n",
      "|  163 |  the            |       53.08% |\u001B[0m\n",
      "|  164 |  overall        |        9.44% |\u001B[0m\n",
      "|  165 |  electron       |       16.51% |\u001B[0m\n",
      "|  166 |  configuration  |       25.45% |\u001B[0m\n",
      "|  167 |  of             |       62.21% |\u001B[0m\n",
      "|  168 |  the            |       61.22% |\u001B[0m\n",
      "|  169 |  atom           |       88.90% |\u001B[0m\n",
      "|  170 | .               |       66.33% |\u001B[0m\n",
      "|  171 |  The            |       25.66% |\u001B[0m\n",
      "|  172 |  two            |       22.27% |\u001B[0m\n",
      "|  173 |  complementary  |       23.89% |\u001B[0m\n",
      "|  174 |  properties     |        9.69% |\u001B[0m\n",
      "|  175 |  of             |       55.98% |\u001B[0m\n",
      "|  176 |  mass           |       47.14% |\u001B[0m\n",
      "|  177 |  and            |       77.99% |\u001B[0m\n",
      "|  178 |  charge         |       59.50% |\u001B[0m\n",
      "|  179 |  and            |       35.75% |\u001B[0m\n",
      "|  180 |  their          |       57.21% |\u001B[0m\n",
      "|  181 |  electronic     |       10.95% |\u001B[0m\n",
      "|  182 |  distribution   |       27.92% |\u001B[0m\n",
      "|  183 |  can            |       38.13% |\u001B[0m\n",
      "|  184 |  be             |       89.83% |\u001B[0m\n",
      "|  185 |  described      |       18.71% |\u001B[0m\n",
      "|  186 |  by             |       47.80% |\u001B[0m\n",
      "|  187 |  methods        |       57.24% |\u001B[0m\n",
      "|  188 |  called         |       33.66% |\u001B[0m\n",
      "|  189 |  quantum        |       15.40% |\u001B[0m\n",
      "|  190 | constants       |       34.32% |\u001B[0m\n",
      "|  191 | :               |       39.23% |\u001B[0m\n",
      "|  192 | \\n              |       52.75% |\u001B[0m\n",
      "|  193 | -               |       86.56% |\u001B[0m\n",
      "|  194 |  The            |       27.08% |\u001B[0m\n",
      "|  195 |  electron       |       30.78% |\u001B[0m\n",
      "|  196 |  and            |       20.80% |\u001B[0m\n",
      "|  197 |  its            |       58.09% |\u001B[0m\n",
      "|  198 |  own            |       13.44% |\u001B[0m\n",
      "|  199 |  spin           |       37.42% |\u001B[0m\n",
      "|  200 |  contribute     |       13.86% |\u001B[0m\n",
      "|  201 |                 |       76.97% |\u001B[0m\n",
      "|  202 | \"               |       19.79% |\u001B[0m\n",
      "|  203 | number          |       15.98% |\u001B[0m\n",
      "|  204 | \".              |       51.77% |\u001B[0m\n",
      "|  205 | \\n              |       80.40% |\u001B[0m\n",
      "|  206 | -               |       95.29% |\u001B[0m\n",
      "|  207 |  Planck         |       88.23% |\u001B[0m\n",
      "|  208 |  contributes    |       71.82% |\u001B[0m\n",
      "|  209 |                 |       44.85% |\u001B[0m\n",
      "|  210 | \"               |       97.28% |\u001B[0m\n",
      "|  211 | frequency       |       64.23% |\u001B[0m\n",
      "|  212 | \".              |       67.77% |\u001B[0m\n",
      "|  213 |  Using          |       93.22% |\u001B[0m\n",
      "|  214 |  Planck         |       73.21% |\u001B[0m\n",
      "|  215 | '               |       70.29% |\u001B[0m\n",
      "|  216 | s               |       99.99% |\u001B[0m\n",
      "|  217 |  constant       |       58.82% |\u001B[0m\n",
      "|  218 | ,               |       67.47% |\u001B[0m\n",
      "|  219 |  you            |       50.04% |\u001B[0m\n",
      "|  220 |  can            |       89.02% |\u001B[0m\n",
      "|  221 |  calculate      |       33.50% |\u001B[0m\n",
      "|  222 |  the            |       79.94% |\u001B[0m\n",
      "|  223 |  frequency      |       32.98% |\u001B[0m\n",
      "|  224 |  of             |       73.20% |\u001B[0m\n",
      "|  225 |  the            |       51.98% |\u001B[0m\n",
      "|  226 |  electron       |       74.62% |\u001B[0m\n",
      "|  227 |  upon           |       29.63% |\u001B[0m\n",
      "|  228 |  measuring      |       34.53% |\u001B[0m\n",
      "|  229 |  it             |       62.04% |\u001B[0m\n",
      "|  230 | .               |       74.10% |\u001B[0m\n",
      "|  231 | \\n              |       74.89% |\u001B[0m\n",
      "|  232 | -               |       77.80% |\u001B[0m\n",
      "|  233 |  Elect          |       49.92% |\u001B[0m\n",
      "|  234 | rons            |       94.80% |\u001B[0m\n",
      "|  235 |  and            |       23.83% |\u001B[0m\n",
      "|  236 |  posit          |       81.12% |\u001B[0m\n",
      "|  237 | rons            |       99.72% |\u001B[0m\n",
      "|  238 |  give           |       27.88% |\u001B[0m\n",
      "|  239 |                 |       38.78% |\u001B[0m\n",
      "|  240 | \"+              |       97.90% |\u001B[0m\n",
      "|  241 | 1               |       28.16% |\u001B[0m\n",
      "|  242 | \"               |       71.37% |\u001B[0m\n",
      "|  243 |  to             |       74.59% |\u001B[0m\n",
      "|  244 |                 |       51.58% |\u001B[0m\n",
      "|  245 | 2               |       60.72% |\u001B[0m\n",
      "|  246 |                 |       20.29% |\u001B[0m\n",
      "|  247 | +               |       42.61% |\u001B[0m\n",
      "|  248 |  electrons      |       23.90% |\u001B[0m\n",
      "|  249 |  compared       |       34.05% |\u001B[0m\n",
      "|  250 |  to             |       94.19% |\u001B[0m\n",
      "|  251 |  electrons      |       28.70% |\u001B[0m\n",
      "|  252 |  and            |       60.01% |\u001B[0m\n",
      "|  253 |  posit          |       86.83% |\u001B[0m\n",
      "|  254 | rons            |       98.44% |\u001B[0m\n",
      "|  255 |  respectively   |       30.92% |\u001B[0m\n",
      "|  256 | .               |       81.01% |\u001B[0m\n"
     ]
    },
    {
     "data": {
      "text/plain": [
       "' At its most basic level, quantum mechanics is the result of different theories be a model of the quantum world. Three of the main theories according to this theory are: The quantum theory of the atom, the quantum theory of the proton, and the quantum theory of the radiation.\\n\\n1) Quantum Theory of the Atom:\\n\\nThe quantum theory of the atom is based on the realization that light waves, such as electrons, are not a wave as was classically thought, but a particle. This thought was also recognized by Werner Heisenberg and Louis Lange. The quantum theory of the atom describes the particle representation of electrons and positrons, as well as the electron-positron interaction.\\n\\nIn the answers to mechanics problems, the relationship between the different quantities in quantum mechanics is used to read the overall electron configuration of the atom. The two complementary properties of mass and charge and their electronic distribution can be described by methods called quantumconstants:\\n- The electron and its own spin contribute \"number\".\\n- Planck contributes \"frequency\". Using Planck\\'s constant, you can calculate the frequency of the electron upon measuring it.\\n- Electrons and positrons give \"+1\" to 2 + electrons compared to electrons and positrons respectively.'"
      ]
     },
     "execution_count": 9,
     "metadata": {},
     "output_type": "execute_result"
    }
   ],
   "execution_count": 9
  },
  {
   "metadata": {
    "ExecuteTime": {
     "end_time": "2025-10-15T15:15:18.283220Z",
     "start_time": "2025-10-15T15:15:18.270350Z"
    }
   },
   "cell_type": "code",
   "source": [
    "bitnet.verify(\n",
    "    text=bitnet.format_falcon_prompt(\n",
    "        tokenizer=tokenizer,\n",
    "        system_prompt=system_prompt,\n",
    "        user_prompt=user_prompt,\n",
    "        assistant_response=assistant_response\n",
    "    ),\n",
    "    num_verify=config.num_assistant_tokens,\n",
    "    threshold=config.assistant_confidence_threshold,\n",
    "    verbose=config.verbose\n",
    ")"
   ],
   "id": "70b06a30ad9a4c87",
   "outputs": [
    {
     "name": "stdout",
     "output_type": "stream",
     "text": [
      "Error during verification API request: 501 Server Error: Not Implemented for url: http://127.0.0.1:8080/infill\n"
     ]
    },
    {
     "data": {
      "text/plain": [
       "{'cut_index': 0, 'probs': []}"
      ]
     },
     "execution_count": 10,
     "metadata": {},
     "output_type": "execute_result"
    }
   ],
   "execution_count": 10
  },
  {
   "metadata": {
    "ExecuteTime": {
     "end_time": "2025-10-15T15:15:18.412494Z",
     "start_time": "2025-10-15T15:15:18.295814Z"
    }
   },
   "cell_type": "code",
   "source": "asdf",
   "id": "79c1b8b35fa39a86",
   "outputs": [
    {
     "ename": "NameError",
     "evalue": "name 'asdf' is not defined",
     "output_type": "error",
     "traceback": [
      "\u001B[0;31m---------------------------------------------------------------------------\u001B[0m",
      "\u001B[0;31mNameError\u001B[0m                                 Traceback (most recent call last)",
      "Cell \u001B[0;32mIn[11], line 1\u001B[0m\n\u001B[0;32m----> 1\u001B[0m \u001B[43masdf\u001B[49m\n",
      "\u001B[0;31mNameError\u001B[0m: name 'asdf' is not defined"
     ]
    }
   ],
   "execution_count": 11
  },
  {
   "metadata": {},
   "cell_type": "code",
   "source": [
    "model = BitNet(\n",
    "    model_path=config.quantized_path,\n",
    "    host=\"127.0.0.2\",\n",
    "    port=8080,\n",
    "    ctx_size=config.ctx_size,\n",
    "    n_threads=config.n_threads,\n",
    "    n_gpu_layers=0,\n",
    "    batch_size=1,\n",
    "    slot_id=1\n",
    ")\n",
    "model.start_server()"
   ],
   "id": "d0a005a8618f7691",
   "outputs": [],
   "execution_count": null
  },
  {
   "metadata": {},
   "cell_type": "code",
   "source": "asdf",
   "id": "ee83f3cdb5dbcd71",
   "outputs": [],
   "execution_count": null
  },
  {
   "metadata": {},
   "cell_type": "code",
   "source": [
    "# C++ BitNet\n",
    "run_server(\n",
    "    model_path=config.quantized_path,\n",
    "    ctx_size=config.n_ctx,\n",
    "    n_threads=config.n_threads,\n",
    "    verbose=config.verbose\n",
    ")"
   ],
   "id": "bd414340250de969",
   "outputs": [],
   "execution_count": null
  },
  {
   "metadata": {},
   "cell_type": "code",
   "source": [
    "res = generate_draft_response(\n",
    "    model_path=config.quantized_path,\n",
    "    prompt=format_falcon_prompt(\n",
    "        tokenizer=tokenizer,\n",
    "        system_prompt=system_prompt,\n",
    "        user_prompt=user_prompt\n",
    "    ),\n",
    "    ctx_size=config.n_ctx,\n",
    "    n_threads=config.n_threads,\n",
    "    max_new_tokens=config.max_new_tokens,\n",
    "    seed=config.seed,\n",
    "    verbose=config.verbose\n",
    ")"
   ],
   "id": "e67e9adf84e8b660",
   "outputs": [],
   "execution_count": null
  },
  {
   "metadata": {},
   "cell_type": "code",
   "source": [
    "result = speculative_decoding(\n",
    "    tokenizer=tokenizer,\n",
    "    system_prompt=system_prompt,\n",
    "    user_prompt=user_prompt,\n",
    "    target_model=model,\n",
    "    max_new_tokens=config.max_new_tokens,\n",
    "    num_assistant_tokens=config.num_assistant_tokens,\n",
    "    confidence_threshold=config.assistant_confidence_threshold,\n",
    "    seed=config.seed,\n",
    "    verbose=True,\n",
    "    server_url=\"http://localhost:8080\"\n",
    ")"
   ],
   "id": "d211b94e23699b0b",
   "outputs": [],
   "execution_count": null
  },
  {
   "metadata": {},
   "cell_type": "code",
   "source": "asdf",
   "id": "33bfa41fd56274f6",
   "outputs": [],
   "execution_count": null
  },
  {
   "metadata": {},
   "cell_type": "code",
   "source": [
    "quantized_model = AutoModelForCausalLM.from_pretrained(\n",
    "    config.quantized_id,\n",
    "    device_map=device,\n",
    "    dtype=torch.bfloat16\n",
    ")\n",
    "quantized_model.eval()\n",
    "print(quantized_model)\n",
    "print(f\"Number of parameters: {quantized_model.num_parameters() / 1e9:.2f}B\")"
   ],
   "id": "5721f3a57aa83353",
   "outputs": [],
   "execution_count": null
  },
  {
   "metadata": {},
   "cell_type": "markdown",
   "source": "# Generation",
   "id": "6463ae4e2d78bcab"
  },
  {
   "metadata": {},
   "cell_type": "code",
   "source": [
    "if config.debug:\n",
    "    print(format_falcon_prompt(\n",
    "        tokenizer=tokenizer,\n",
    "        system_prompt=system_prompt,\n",
    "        user_prompt=user_prompt,\n",
    "        assistant_response=assistant_response\n",
    "    ))"
   ],
   "id": "7552ebab30c2ccb0",
   "outputs": [],
   "execution_count": null
  },
  {
   "metadata": {},
   "cell_type": "code",
   "source": [
    "generate_response(\n",
    "    tokenizer=tokenizer,\n",
    "    model=model,\n",
    "    system_prompt=system_prompt,\n",
    "    user_prompt=user_prompt,\n",
    "    max_new_tokens=config.max_new_tokens,\n",
    "    #num_assistant_tokens=config.num_assistant_tokens,\n",
    "    #assistant_confidence_threshold=config.assistant_confidence_threshold,\n",
    "    verbose=config.verbose\n",
    ")"
   ],
   "id": "4d6a2aab277c2492",
   "outputs": [],
   "execution_count": null
  },
  {
   "metadata": {},
   "cell_type": "code",
   "source": [
    "if config.debug:\n",
    "    generate_response(\n",
    "        tokenizer=tokenizer,\n",
    "        model=quantized_model,\n",
    "        system_prompt=system_prompt,\n",
    "        user_prompt=user_prompt,\n",
    "        max_new_tokens=config.max_new_tokens,\n",
    "        #num_assistant_tokens=config.num_assistant_tokens,\n",
    "        #assistant_confidence_threshold=config.assistant_confidence_threshold,\n",
    "        verbose=config.verbose\n",
    "    )"
   ],
   "id": "447c0bc1672919f6",
   "outputs": [],
   "execution_count": null
  },
  {
   "metadata": {},
   "cell_type": "markdown",
   "source": "## Speculative Decoding",
   "id": "3ea2f613adff62cc"
  },
  {
   "metadata": {},
   "cell_type": "code",
   "source": [
    "if config.debug:\n",
    "    generate_response(\n",
    "        tokenizer=tokenizer,\n",
    "        model=model,\n",
    "        assistant_model=quantized_model,\n",
    "        system_prompt=system_prompt,\n",
    "        user_prompt=user_prompt,\n",
    "        max_new_tokens=config.max_new_tokens,\n",
    "        num_assistant_tokens=config.num_assistant_tokens,\n",
    "        assistant_confidence_threshold=config.assistant_confidence_threshold,\n",
    "        verbose=config.verbose\n",
    "    )"
   ],
   "id": "a85fe85cfc7b44b",
   "outputs": [],
   "execution_count": null
  },
  {
   "metadata": {},
   "cell_type": "markdown",
   "source": "# C++",
   "id": "12226aae1e5f0541"
  },
  {
   "metadata": {},
   "cell_type": "markdown",
   "source": "## Speculative Decoding",
   "id": "c13ba5f4d500af32"
  },
  {
   "metadata": {},
   "cell_type": "code",
   "source": [
    "sample = generate_draft_response(\n",
    "    model_path=config.quantized_path,\n",
    "    prompt=format_falcon_prompt(\n",
    "        tokenizer=tokenizer,\n",
    "        system_prompt=system_prompt,\n",
    "        user_prompt=user_prompt\n",
    "    ),\n",
    "    ctx_size=config.n_ctx,\n",
    "    n_threads=config.n_threads,\n",
    "    max_new_tokens=10,\n",
    "    seed=config.seed,\n",
    "    verbose=False\n",
    ")\n",
    "res = verify_with_target(\n",
    "    context=sample,\n",
    "    tokenizer=tokenizer,\n",
    "    target_model=model,\n",
    "    num_assistant_tokens=10,\n",
    "    confidence_threshold=0.9,\n",
    "    verbose=True\n",
    ")"
   ],
   "id": "b0fc7d3d168602ca",
   "outputs": [],
   "execution_count": null
  },
  {
   "metadata": {},
   "cell_type": "code",
   "source": [
    "result = speculative_decoding(\n",
    "    tokenizer=tokenizer,\n",
    "    system_prompt=system_prompt,\n",
    "    user_prompt=user_prompt,\n",
    "    target_model=model,\n",
    "    draft_model=config.quantized_path,\n",
    "    ctx_size=config.n_ctx,\n",
    "    n_threads=config.n_threads,\n",
    "    max_new_tokens=config.max_new_tokens,\n",
    "    num_assistant_tokens=config.num_assistant_tokens,\n",
    "    confidence_threshold=config.assistant_confidence_threshold,\n",
    "    seed=config.seed,\n",
    "    verbose=True\n",
    ")"
   ],
   "id": "3dae326ca7b6934f",
   "outputs": [],
   "execution_count": null
  },
  {
   "metadata": {},
   "cell_type": "code",
   "source": "",
   "id": "e96f19741eba5c09",
   "outputs": [],
   "execution_count": null
  }
 ],
 "metadata": {
  "kernelspec": {
   "display_name": "Python 3",
   "language": "python",
   "name": "python3"
  },
  "language_info": {
   "codemirror_mode": {
    "name": "ipython",
    "version": 2
   },
   "file_extension": ".py",
   "mimetype": "text/x-python",
   "name": "python",
   "nbconvert_exporter": "python",
   "pygments_lexer": "ipython2",
   "version": "2.7.6"
  }
 },
 "nbformat": 4,
 "nbformat_minor": 5
}
